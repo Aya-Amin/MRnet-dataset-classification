{
  "nbformat": 4,
  "nbformat_minor": 0,
  "metadata": {
    "colab": {
      "name": "Assignment 4_v3.ipynb",
      "version": "0.3.2",
      "provenance": [],
      "collapsed_sections": [
        "F6qhhrJuNPW8",
        "HpaCqxa5Lji9",
        "AUmEt_uPNA7K",
        "JLywW23cJSWb",
        "wmZf2R0ezncx",
        "JIzTeIQJ08Ep",
        "gvtnuUab3sGt",
        "VJKP50dP-T7d",
        "RM003h3Y46L-",
        "ev8SCy58luHL",
        "p4460kOMm_LA",
        "eh7IUVUIxzFM",
        "f-j4PHNJEMRA",
        "ZhRgNysBy9HJ",
        "JWF36DXt0lj1",
        "QntZqwr22Qqu",
        "D2thlG5_12K_",
        "pJs7J20U4lGu",
        "VXE1feJ7D_qQ",
        "8Mx-wU-JE00b",
        "jVuoDrevt-x3"
      ],
      "toc_visible": true,
      "include_colab_link": true
    },
    "kernelspec": {
      "name": "python3",
      "display_name": "Python 3"
    },
    "accelerator": "GPU"
  },
  "cells": [
    {
      "cell_type": "markdown",
      "metadata": {
        "id": "view-in-github",
        "colab_type": "text"
      },
      "source": [
        "<a href=\"https://colab.research.google.com/github/Aya-Amin/MRnet-dataset-classification/blob/master/Assignment_4_v3.ipynb\" target=\"_parent\"><img src=\"https://colab.research.google.com/assets/colab-badge.svg\" alt=\"Open In Colab\"/></a>"
      ]
    },
    {
      "cell_type": "code",
      "metadata": {
        "id": "_S8fL5MpVl1B",
        "colab_type": "code",
        "colab": {}
      },
      "source": [
        "#downloading dataset to colab\n",
        "!wget -qq http://download.cs.stanford.edu/deep/MRNet-v1.0.zip -P ./data"
      ],
      "execution_count": 0,
      "outputs": []
    },
    {
      "cell_type": "code",
      "metadata": {
        "id": "Yt0XdQiXZLoP",
        "colab_type": "code",
        "outputId": "d590216d-5c21-45a9-9afb-009f2fd3dfa8",
        "colab": {
          "base_uri": "https://localhost:8080/",
          "height": 119
        }
      },
      "source": [
        "#unziping\n",
        "!unzip --qq data/MRNet-v1.0.zip -d ./data"
      ],
      "execution_count": 0,
      "outputs": [
        {
          "output_type": "stream",
          "text": [
            "warning [data/MRNet-v1.0.zip]:  4294967296 extra bytes at beginning or within zipfile\n",
            "  (attempting to process anyway)\n",
            "file #1:  bad zipfile offset (local header sig):  4294967296\n",
            "  (attempting to re-compensate)\n",
            "file #2547:  bad zipfile offset (local header sig):  1353202\n",
            "  (attempting to re-compensate)\n"
          ],
          "name": "stdout"
        }
      ]
    },
    {
      "cell_type": "code",
      "metadata": {
        "id": "IgsRtqKALAR5",
        "colab_type": "code",
        "colab": {}
      },
      "source": [
        "import os\n",
        "import numpy as np\n",
        "from matplotlib import pyplot as plt\n",
        "import math"
      ],
      "execution_count": 0,
      "outputs": []
    },
    {
      "cell_type": "code",
      "metadata": {
        "id": "IABg1SuM9wfW",
        "colab_type": "code",
        "outputId": "80c5d8a1-6936-43fa-c887-a2271c9da0df",
        "colab": {
          "base_uri": "https://localhost:8080/",
          "height": 34
        }
      },
      "source": [
        "from keras.applications.inception_v3 import InceptionV3\n",
        "from keras.applications.vgg16 import VGG16\n",
        "from keras.preprocessing import image\n",
        "from keras.models import Model, Sequential\n",
        "from keras.layers import Dense, GlobalAveragePooling2D, Dropout, Flatten\n",
        "from keras import backend as K\n",
        "from keras.layers import Input"
      ],
      "execution_count": 0,
      "outputs": [
        {
          "output_type": "stream",
          "text": [
            "Using TensorFlow backend.\n"
          ],
          "name": "stderr"
        }
      ]
    },
    {
      "cell_type": "code",
      "metadata": {
        "id": "NmrsJ-BsjnyH",
        "colab_type": "code",
        "colab": {}
      },
      "source": [
        "import keras.backend as K\n",
        "\n",
        "def f1_score(y_true, y_pred):\n",
        "\n",
        "    # Count positive samples.\n",
        "    c1 = K.sum(K.round(K.clip(y_true * y_pred, 0, 1)))\n",
        "    c2 = K.sum(K.round(K.clip(y_pred, 0, 1)))\n",
        "    c3 = K.sum(K.round(K.clip(y_true, 0, 1)))\n",
        "\n",
        "    # If there are no true samples, fix the F1 score at 0.\n",
        "    if c3 == 0:\n",
        "        return 0\n",
        "\n",
        "    # How many selected items are relevant?\n",
        "    precision = c1 / c2\n",
        "\n",
        "    # How many relevant items are selected?\n",
        "    recall = c1 / c3\n",
        "\n",
        "    # Calculate f1_score\n",
        "    f1_score = 2 * (precision * recall) / (precision + recall)\n",
        "    return f1_score\n",
        "  \n",
        "\n",
        "def f1(y_true, y_pred):\n",
        "    def recall(y_true, y_pred):\n",
        "        \"\"\"Recall metric.\n",
        "\n",
        "        Only computes a batch-wise average of recall.\n",
        "\n",
        "        Computes the recall, a metric for multi-label classification of\n",
        "        how many relevant items are selected.\n",
        "        \"\"\"\n",
        "        true_positives = K.sum(K.round(K.clip(y_true * y_pred, 0, 1)))\n",
        "        possible_positives = K.sum(K.round(K.clip(y_true, 0, 1)))\n",
        "        recall = true_positives / (possible_positives + K.epsilon())\n",
        "        return recall\n",
        "\n",
        "    def precision(y_true, y_pred):\n",
        "        \"\"\"Precision metric.\n",
        "\n",
        "        Only computes a batch-wise average of precision.\n",
        "\n",
        "        Computes the precision, a metric for multi-label classification of\n",
        "        how many selected items are relevant.\n",
        "        \"\"\"\n",
        "        true_positives = K.sum(K.round(K.clip(y_true * y_pred, 0, 1)))\n",
        "        predicted_positives = K.sum(K.round(K.clip(y_pred, 0, 1)))\n",
        "        precision = true_positives / (predicted_positives + K.epsilon())\n",
        "        return precision\n",
        "    precision = precision(y_true, y_pred)\n",
        "    recall = recall(y_true, y_pred)\n",
        "    return 2*((precision*recall)/(precision+recall+K.epsilon()))"
      ],
      "execution_count": 0,
      "outputs": []
    },
    {
      "cell_type": "markdown",
      "metadata": {
        "id": "F6qhhrJuNPW8",
        "colab_type": "text"
      },
      "source": [
        "##Reading train & test labels"
      ]
    },
    {
      "cell_type": "code",
      "metadata": {
        "id": "U4pEnRbJ8zbJ",
        "colab_type": "code",
        "outputId": "9dd9c224-fe1c-4b8f-8710-cc4a0993e8fe",
        "colab": {
          "base_uri": "https://localhost:8080/",
          "height": 241
        }
      },
      "source": [
        "import csv\n",
        "\n",
        "with open(\"/content/data/MRNet-v1.0/train-abnormal.csv\") as csv_file:\n",
        "    csv_reader = csv.reader(csv_file)\n",
        "    line_count = 0\n",
        "    trainAb_labels=[]\n",
        "    for row in csv_reader:\n",
        "           trainAb_labels.append(int(row[1]))\n",
        "print(trainAb_labels)\n",
        "trainAb_labels= np.array(trainAb_labels)\n",
        "print(len(trainAb_labels))\n",
        "\n",
        "with open(\"/content/data/MRNet-v1.0/train-acl.csv\") as csv_file:\n",
        "    csv_reader = csv.reader(csv_file)\n",
        "    line_count = 0\n",
        "    trainACL_labels=[]\n",
        "    for row in csv_reader:\n",
        "           trainACL_labels.append(int(row[1]))\n",
        "print(trainAb_labels)\n",
        "trainACL_labels= np.array(trainACL_labels)\n",
        "print(len(trainACL_labels))\n",
        "\n",
        "\n",
        "with open(\"/content/data/MRNet-v1.0/train-meniscus.csv\") as csv_file:\n",
        "    csv_reader = csv.reader(csv_file)\n",
        "    line_count = 0\n",
        "    trainMen_labels=[]\n",
        "    for row in csv_reader:\n",
        "           trainMen_labels.append(int(row[1]))\n",
        "print(trainMen_labels)\n",
        "trainAb_labels= np.array(trainMen_labels)\n",
        "print(len(trainMen_labels))\n",
        "\n",
        "\n",
        "#Test labels\n",
        "with open(\"/content/data/MRNet-v1.0/valid-abnormal.csv\") as csv_file:\n",
        "    csv_reader = csv.reader(csv_file)\n",
        "    line_count = 0\n",
        "    testAb_labels=[]\n",
        "    for row in csv_reader:\n",
        "           testAb_labels.append(int(row[1]))\n",
        "print(testAb_labels)\n",
        "testAb_labels= np.array(testAb_labels)\n",
        "print(len(testAb_labels))\n",
        "\n",
        "with open(\"/content/data/MRNet-v1.0/valid-acl.csv\") as csv_file:\n",
        "    csv_reader = csv.reader(csv_file)\n",
        "    line_count = 0\n",
        "    testACL_labels=[]\n",
        "    for row in csv_reader:\n",
        "           testACL_labels.append(int(row[1]))\n",
        "print(testACL_labels)\n",
        "testACL_labels= np.array(testACL_labels)\n",
        "print(len(testACL_labels))\n",
        "\n",
        "\n",
        "with open(\"/content/data/MRNet-v1.0/valid-meniscus.csv\") as csv_file:\n",
        "    csv_reader = csv.reader(csv_file)\n",
        "    line_count = 0\n",
        "    testMen_labels=[]\n",
        "    for row in csv_reader:\n",
        "           testMen_labels.append(int(row[1]))\n",
        "print(testMen_labels)\n",
        "testMen_labels= np.array(testMen_labels)\n",
        "print(len(testMen_labels))"
      ],
      "execution_count": 0,
      "outputs": [
        {
          "output_type": "stream",
          "text": [
            "[1, 1, 1, 1, 1, 1, 1, 1, 1, 1, 1, 0, 0, 1, 0, 1, 1, 0, 1, 1, 1, 0, 1, 0, 1, 0, 0, 1, 1, 1, 1, 1, 1, 1, 1, 1, 1, 1, 1, 1, 0, 1, 1, 1, 0, 1, 1, 1, 0, 1, 1, 1, 1, 0, 1, 1, 1, 1, 1, 1, 0, 1, 1, 1, 1, 1, 0, 1, 1, 1, 1, 1, 1, 1, 0, 1, 1, 0, 1, 1, 1, 1, 0, 1, 1, 1, 1, 1, 1, 1, 1, 1, 1, 1, 1, 1, 0, 1, 1, 0, 1, 1, 1, 1, 1, 1, 0, 1, 1, 1, 0, 1, 1, 1, 1, 1, 1, 0, 0, 1, 0, 1, 0, 0, 1, 1, 1, 0, 0, 1, 1, 0, 1, 1, 1, 1, 1, 1, 1, 1, 1, 1, 1, 0, 0, 1, 1, 1, 1, 0, 1, 1, 1, 0, 1, 1, 1, 1, 1, 1, 1, 1, 1, 1, 1, 1, 1, 1, 1, 1, 0, 1, 1, 1, 1, 1, 1, 0, 1, 1, 1, 0, 1, 1, 1, 1, 1, 1, 1, 1, 1, 1, 1, 1, 1, 1, 1, 1, 1, 1, 1, 1, 1, 1, 1, 1, 1, 1, 1, 1, 0, 1, 1, 1, 0, 1, 1, 1, 1, 1, 1, 1, 0, 1, 1, 0, 1, 0, 0, 1, 0, 1, 1, 1, 1, 1, 1, 1, 0, 0, 1, 1, 1, 0, 0, 0, 1, 1, 1, 1, 1, 1, 0, 1, 1, 1, 0, 1, 0, 1, 1, 1, 1, 1, 1, 1, 1, 0, 0, 1, 1, 1, 0, 1, 1, 1, 1, 1, 1, 1, 1, 1, 1, 0, 1, 1, 1, 1, 1, 1, 1, 0, 1, 1, 1, 1, 0, 1, 1, 0, 1, 1, 1, 1, 1, 1, 0, 1, 1, 1, 1, 1, 1, 1, 1, 1, 1, 1, 1, 1, 1, 1, 1, 1, 1, 1, 1, 1, 1, 1, 1, 1, 1, 1, 1, 1, 1, 0, 1, 1, 1, 1, 0, 1, 1, 1, 1, 1, 1, 1, 1, 1, 1, 1, 1, 1, 1, 1, 1, 1, 1, 1, 0, 0, 1, 1, 1, 1, 1, 1, 1, 1, 0, 1, 1, 1, 1, 0, 1, 1, 1, 0, 1, 1, 0, 1, 1, 0, 1, 1, 1, 1, 1, 1, 1, 1, 1, 1, 1, 1, 0, 1, 1, 1, 0, 1, 0, 1, 1, 0, 0, 1, 1, 1, 1, 0, 1, 1, 1, 1, 0, 1, 1, 1, 1, 0, 1, 1, 0, 1, 0, 1, 1, 1, 0, 0, 1, 0, 1, 0, 1, 1, 0, 1, 1, 1, 1, 1, 1, 1, 0, 1, 1, 1, 1, 1, 1, 1, 1, 0, 0, 0, 0, 1, 1, 0, 0, 0, 1, 1, 1, 1, 0, 0, 1, 0, 0, 0, 1, 1, 1, 1, 1, 1, 1, 1, 1, 1, 1, 1, 1, 0, 0, 1, 1, 0, 1, 1, 1, 0, 1, 1, 1, 0, 0, 1, 1, 1, 1, 0, 1, 1, 1, 1, 1, 0, 1, 1, 1, 1, 1, 1, 1, 1, 1, 0, 1, 1, 1, 1, 1, 1, 0, 0, 1, 1, 1, 1, 1, 1, 1, 1, 0, 1, 1, 1, 1, 1, 0, 0, 1, 1, 1, 1, 1, 1, 1, 1, 0, 1, 1, 1, 1, 0, 1, 0, 1, 1, 1, 1, 1, 0, 1, 1, 1, 1, 1, 1, 1, 1, 0, 1, 1, 0, 1, 1, 1, 1, 0, 0, 1, 1, 1, 1, 1, 1, 1, 0, 1, 0, 0, 1, 1, 1, 1, 1, 1, 1, 0, 1, 1, 1, 1, 1, 1, 1, 1, 1, 1, 1, 1, 0, 1, 1, 1, 0, 1, 1, 1, 1, 1, 1, 1, 1, 0, 1, 1, 0, 1, 1, 1, 0, 1, 1, 0, 1, 1, 1, 1, 1, 1, 1, 1, 1, 1, 1, 1, 1, 0, 1, 1, 1, 1, 1, 1, 1, 1, 1, 1, 1, 1, 0, 1, 1, 0, 0, 1, 1, 0, 1, 1, 1, 1, 1, 1, 0, 1, 1, 1, 0, 1, 1, 1, 1, 1, 1, 1, 1, 1, 1, 0, 1, 1, 0, 1, 1, 1, 1, 1, 1, 1, 0, 0, 1, 1, 1, 1, 1, 1, 1, 1, 1, 1, 1, 1, 1, 1, 0, 1, 1, 1, 1, 1, 1, 1, 1, 1, 1, 1, 1, 1, 1, 1, 1, 0, 1, 1, 1, 1, 1, 1, 1, 1, 1, 1, 1, 1, 1, 1, 0, 1, 1, 1, 1, 1, 1, 1, 1, 1, 1, 1, 1, 0, 1, 1, 1, 1, 0, 1, 1, 1, 1, 1, 1, 1, 1, 0, 1, 0, 1, 1, 1, 1, 1, 1, 1, 1, 0, 1, 0, 1, 1, 0, 1, 1, 1, 0, 0, 0, 1, 1, 1, 1, 0, 1, 1, 1, 1, 0, 1, 0, 0, 1, 0, 0, 0, 1, 1, 1, 1, 1, 1, 1, 1, 1, 1, 1, 1, 1, 1, 1, 0, 1, 1, 1, 0, 1, 1, 1, 1, 1, 1, 1, 1, 1, 1, 1, 1, 0, 0, 0, 1, 1, 1, 1, 1, 0, 0, 0, 1, 1, 1, 0, 1, 0, 1, 1, 1, 0, 0, 1, 1, 1, 0, 1, 1, 0, 1, 1, 1, 1, 1, 1, 1, 0, 1, 1, 1, 1, 1, 1, 1, 1, 1, 0, 1, 1, 1, 1, 1, 1, 1, 1, 1, 1, 1, 1, 1, 1, 1, 1, 1, 1, 1, 0, 1, 0, 1, 1, 1, 1, 1, 1, 1, 0, 1, 1, 0, 1, 1, 1, 1, 1, 1, 0, 1, 1, 0, 1, 1, 1, 1, 1, 1, 1, 1, 1, 1, 1, 0, 0, 1, 1, 1, 1, 1, 1, 1, 1, 1, 1, 1, 1, 1, 1, 1, 1, 1, 1, 1, 1, 1, 1, 0, 0, 1, 1, 1, 1, 1, 1, 1, 0, 1, 1, 1, 1, 0, 0, 1, 0, 1, 1, 0, 1, 0, 0, 0, 0, 1, 1, 0, 1, 1, 1, 1, 1, 1, 1, 0, 0, 0, 1, 1, 0, 0, 1, 0, 1, 1, 1, 1, 1, 1, 0, 1, 1, 1, 1, 1, 1, 1, 1, 1, 1, 1, 1, 1, 1, 0, 1, 1, 0, 1, 1, 1, 1, 1, 1, 1, 1, 1, 1, 1, 0, 1, 1, 1, 1, 1, 0, 0, 0, 1, 1, 1, 0, 1, 1, 1, 1, 0, 0, 1, 1, 1, 0, 1, 1, 1, 1, 1, 1, 0, 1, 1, 1, 1, 1, 1, 1, 1, 1, 1, 1, 1, 1, 1, 1, 1, 1, 1, 1, 1, 1, 0, 1, 1, 1, 0, 1, 1, 1, 0, 1, 1, 1, 0, 1, 1]\n",
            "1130\n",
            "[1 1 1 ... 0 1 1]\n",
            "1130\n",
            "[0, 1, 0, 1, 0, 1, 0, 0, 0, 0, 1, 0, 0, 0, 0, 0, 1, 0, 1, 1, 1, 0, 1, 0, 0, 0, 0, 1, 1, 0, 1, 0, 1, 1, 0, 1, 1, 1, 1, 1, 0, 0, 1, 1, 0, 1, 0, 0, 0, 1, 0, 0, 1, 0, 1, 0, 0, 1, 0, 1, 0, 0, 0, 1, 0, 0, 0, 1, 0, 0, 1, 0, 1, 0, 0, 0, 0, 0, 1, 1, 1, 0, 0, 0, 1, 0, 0, 0, 1, 1, 1, 1, 1, 0, 1, 0, 0, 0, 1, 0, 0, 0, 0, 0, 1, 1, 0, 0, 1, 1, 0, 1, 0, 1, 0, 0, 1, 0, 0, 1, 0, 0, 0, 0, 0, 1, 1, 0, 0, 0, 1, 0, 0, 0, 0, 0, 0, 1, 1, 0, 1, 0, 1, 0, 0, 0, 0, 1, 0, 0, 1, 0, 1, 0, 1, 1, 0, 1, 0, 1, 0, 0, 1, 0, 0, 0, 0, 0, 1, 0, 0, 0, 0, 0, 1, 0, 1, 0, 1, 1, 1, 0, 1, 1, 0, 0, 1, 0, 1, 0, 0, 1, 0, 0, 1, 0, 1, 0, 1, 0, 0, 0, 0, 1, 1, 0, 0, 0, 1, 0, 0, 0, 0, 0, 0, 1, 0, 1, 0, 0, 1, 0, 0, 0, 0, 0, 0, 0, 0, 0, 0, 1, 0, 0, 1, 1, 0, 0, 0, 0, 1, 0, 0, 0, 0, 0, 0, 0, 1, 0, 0, 1, 0, 1, 0, 0, 0, 0, 0, 1, 1, 0, 0, 1, 0, 1, 0, 0, 0, 0, 1, 0, 0, 0, 0, 0, 0, 1, 0, 0, 1, 1, 0, 0, 0, 1, 0, 0, 0, 0, 0, 0, 0, 0, 1, 0, 0, 0, 1, 0, 0, 0, 1, 1, 0, 1, 0, 0, 0, 0, 0, 1, 1, 1, 1, 1, 1, 0, 1, 1, 1, 1, 0, 1, 1, 1, 1, 1, 1, 1, 0, 1, 1, 1, 0, 0, 0, 0, 0, 0, 1, 0, 0, 1, 1, 0, 0, 1, 1, 0, 1, 0, 0, 0, 0, 1, 1, 0, 0, 0, 1, 1, 0, 0, 0, 0, 0, 0, 1, 0, 1, 0, 0, 1, 1, 0, 0, 0, 1, 0, 1, 0, 1, 1, 0, 1, 1, 0, 1, 0, 0, 0, 1, 0, 0, 0, 0, 1, 0, 0, 0, 0, 0, 0, 0, 0, 0, 1, 1, 0, 0, 0, 0, 0, 1, 0, 1, 1, 0, 1, 0, 1, 0, 1, 0, 0, 1, 0, 0, 1, 0, 1, 1, 1, 0, 0, 0, 0, 0, 0, 0, 1, 0, 0, 1, 0, 1, 1, 0, 0, 0, 0, 1, 0, 0, 0, 1, 1, 1, 0, 0, 0, 0, 1, 0, 0, 0, 0, 0, 1, 1, 0, 0, 0, 1, 0, 0, 0, 1, 0, 0, 0, 1, 0, 0, 0, 0, 1, 1, 1, 1, 0, 0, 0, 1, 0, 0, 0, 0, 0, 1, 1, 1, 0, 0, 0, 1, 1, 1, 0, 0, 1, 0, 0, 0, 0, 0, 1, 1, 0, 0, 0, 1, 0, 1, 0, 1, 0, 1, 0, 1, 1, 0, 0, 0, 1, 0, 0, 0, 0, 0, 0, 0, 1, 1, 0, 1, 1, 0, 0, 0, 1, 0, 1, 1, 0, 0, 1, 0, 0, 0, 1, 0, 0, 1, 0, 0, 0, 0, 1, 1, 0, 1, 1, 0, 1, 0, 1, 0, 1, 0, 1, 1, 0, 0, 1, 1, 0, 0, 0, 0, 0, 0, 0, 1, 0, 1, 0, 0, 0, 0, 1, 1, 0, 1, 1, 0, 1, 0, 0, 0, 0, 0, 0, 0, 0, 0, 1, 0, 1, 1, 0, 0, 0, 1, 0, 0, 0, 1, 1, 0, 1, 0, 1, 0, 1, 1, 0, 0, 0, 0, 0, 0, 0, 0, 1, 1, 0, 1, 1, 0, 0, 0, 0, 1, 1, 0, 1, 0, 0, 1, 1, 1, 0, 0, 0, 1, 0, 0, 0, 0, 0, 1, 0, 0, 0, 0, 1, 0, 1, 1, 0, 0, 1, 0, 0, 0, 1, 1, 0, 0, 1, 1, 1, 0, 0, 0, 0, 1, 1, 0, 1, 0, 0, 0, 0, 0, 1, 1, 0, 0, 0, 0, 0, 0, 0, 1, 0, 1, 0, 1, 1, 0, 1, 1, 0, 1, 0, 0, 0, 0, 0, 0, 0, 0, 0, 1, 0, 0, 0, 1, 0, 1, 0, 0, 0, 0, 0, 0, 1, 1, 1, 1, 1, 0, 0, 0, 0, 0, 0, 1, 1, 0, 0, 0, 0, 1, 0, 1, 1, 0, 0, 0, 1, 0, 1, 1, 0, 1, 1, 0, 0, 0, 1, 1, 1, 0, 0, 0, 0, 0, 1, 0, 1, 0, 0, 0, 0, 0, 0, 0, 0, 0, 0, 0, 0, 0, 0, 0, 0, 1, 0, 1, 0, 0, 0, 0, 1, 0, 0, 0, 0, 1, 0, 0, 0, 0, 0, 0, 0, 1, 0, 0, 1, 0, 1, 0, 0, 0, 0, 0, 0, 1, 1, 0, 0, 1, 1, 0, 0, 0, 0, 0, 1, 1, 0, 0, 1, 0, 0, 0, 0, 1, 1, 1, 0, 0, 0, 0, 0, 1, 1, 0, 0, 0, 0, 0, 0, 0, 0, 0, 1, 0, 0, 1, 1, 0, 1, 0, 0, 1, 1, 1, 0, 0, 1, 0, 1, 0, 0, 1, 0, 1, 0, 0, 0, 0, 0, 0, 1, 1, 0, 1, 1, 1, 0, 1, 0, 0, 1, 1, 0, 1, 1, 0, 0, 0, 1, 0, 0, 0, 1, 1, 0, 0, 0, 0, 0, 1, 0, 0, 1, 0, 0, 0, 1, 0, 0, 0, 0, 1, 0, 0, 0, 0, 1, 0, 0, 0, 0, 0, 1, 0, 1, 1, 0, 0, 0, 0, 1, 1, 0, 1, 0, 0, 0, 0, 1, 1, 0, 1, 0, 1, 0, 0, 1, 0, 0, 0, 1, 1, 0, 0, 1, 1, 0, 0, 0, 0, 1, 0, 1, 1, 0, 0, 0, 0, 0, 0, 0, 1, 0, 0, 0, 1, 0, 0, 0, 0, 0, 0, 0, 0, 0, 0, 0, 1, 0, 1, 0, 1, 1, 0, 0, 0, 0, 0, 1, 1, 0, 0, 1, 0, 0, 0, 0, 0, 0, 0, 0, 0, 1, 0, 1, 0, 0, 1, 1, 0, 1, 0, 1, 1, 0, 0, 1, 0, 0, 1, 0, 0, 0, 0, 0, 0, 0, 0, 1, 1, 0, 1, 0, 0, 1, 0, 1, 0, 0, 1, 0, 1, 0, 0, 0, 0, 0, 1, 0, 0, 0, 1, 1, 1, 0, 0, 1, 0, 1, 1, 0, 1, 1, 1, 0, 0, 0, 1, 1, 0, 0, 1, 0, 0, 0, 0, 1, 1, 0, 0, 0]\n",
            "1130\n",
            "[0, 0, 0, 0, 0, 0, 0, 0, 0, 0, 0, 0, 0, 0, 0, 0, 0, 0, 0, 0, 0, 0, 0, 0, 1, 1, 1, 1, 1, 1, 1, 1, 1, 1, 1, 1, 1, 1, 1, 1, 1, 1, 1, 1, 1, 1, 1, 1, 1, 1, 1, 1, 1, 1, 1, 1, 1, 1, 1, 1, 1, 1, 1, 1, 1, 1, 1, 1, 1, 1, 1, 1, 1, 1, 1, 1, 1, 1, 1, 1, 1, 1, 1, 1, 1, 1, 1, 0, 1, 1, 1, 1, 1, 1, 1, 1, 1, 1, 1, 1, 1, 1, 1, 1, 1, 1, 1, 1, 1, 1, 1, 1, 1, 1, 1, 1, 1, 1, 1, 1]\n",
            "120\n",
            "[0, 0, 0, 0, 0, 0, 0, 0, 0, 0, 0, 0, 0, 0, 0, 0, 0, 0, 0, 0, 0, 0, 0, 0, 0, 0, 0, 0, 0, 0, 0, 0, 0, 0, 0, 0, 0, 0, 0, 0, 0, 0, 1, 1, 1, 1, 1, 1, 1, 1, 0, 1, 1, 1, 1, 1, 1, 1, 1, 0, 1, 1, 1, 1, 1, 1, 1, 1, 1, 1, 1, 1, 1, 1, 1, 1, 1, 1, 1, 1, 1, 1, 1, 1, 1, 1, 1, 0, 1, 1, 1, 0, 0, 0, 1, 1, 0, 0, 1, 1, 0, 0, 0, 0, 0, 0, 0, 1, 0, 0, 0, 0, 0, 0, 0, 1, 1, 0, 1, 0]\n",
            "120\n",
            "[0, 0, 0, 0, 0, 0, 0, 0, 0, 0, 0, 0, 0, 0, 0, 0, 0, 0, 0, 0, 0, 0, 0, 0, 0, 0, 0, 0, 0, 0, 0, 0, 0, 0, 0, 0, 0, 0, 0, 0, 0, 0, 1, 1, 1, 0, 1, 0, 0, 0, 0, 0, 0, 0, 1, 0, 1, 0, 1, 0, 0, 1, 1, 0, 1, 1, 1, 1, 0, 1, 0, 1, 1, 1, 0, 1, 0, 1, 0, 0, 0, 1, 0, 1, 0, 0, 1, 0, 0, 0, 1, 1, 1, 1, 1, 1, 1, 1, 1, 1, 1, 1, 1, 1, 1, 1, 1, 1, 1, 1, 1, 1, 1, 1, 1, 1, 1, 1, 1, 1]\n",
            "120\n"
          ],
          "name": "stdout"
        }
      ]
    },
    {
      "cell_type": "code",
      "metadata": {
        "id": "DzmL2nU9M9wt",
        "colab_type": "code",
        "colab": {}
      },
      "source": [
        "train_Ab_pred = []\n",
        "test_Ab_pred = []\n",
        "train_ACL_pred = []\n",
        "test_ACL_pred = []\n",
        "train_Men_pred = []\n",
        "test_Men_pred = []"
      ],
      "execution_count": 0,
      "outputs": []
    },
    {
      "cell_type": "markdown",
      "metadata": {
        "id": "HpaCqxa5Lji9",
        "colab_type": "text"
      },
      "source": [
        "##Axial"
      ]
    },
    {
      "cell_type": "markdown",
      "metadata": {
        "id": "AUmEt_uPNA7K",
        "colab_type": "text"
      },
      "source": [
        "###Reading train & test data"
      ]
    },
    {
      "cell_type": "code",
      "metadata": {
        "id": "xvMN_V8lKfA4",
        "colab_type": "code",
        "outputId": "13bfd541-bcca-4c18-92a6-1d6eb51bba1f",
        "colab": {
          "base_uri": "https://localhost:8080/",
          "height": 187
        }
      },
      "source": [
        "#reading axial directory in order\n",
        "axial_dir = os.listdir(\"/content/data/MRNet-v1.0/train/axial/\")\n",
        "axial_dir = [f.lower() for f in axial_dir]   # Convert to lower case\n",
        "a=sorted(axial_dir)\n",
        "axial_list=np.array(a)\n",
        "axial_reloaded=[]\n",
        "\n",
        "print(axial_list.shape)\n",
        "for j in range(1,1131):\n",
        "    file= \"/content/data/MRNet-v1.0/train/axial/\"+axial_list[j]    \n",
        "    axial_reloaded.append(np.load(file,allow_pickle='false'))   \n",
        "#print(axial_reloaded[100].shape)\n",
        "axial_reloaded=np.array(axial_reloaded)\n",
        "\n",
        "print(axial_reloaded.shape)\n",
        "s=axial_reloaded.shape\n",
        "print(axial_reloaded[0].shape[0])\n",
        "#print(s[1])\n",
        "train_axial=[]\n",
        "\n",
        "print(len(axial_reloaded))\n",
        "#just potting the images \n",
        "for j in range(len(axial_reloaded)):\n",
        "    mid=math.floor((axial_reloaded[j].shape[0])/2)\n",
        "    train_axial.append([])    \n",
        "    #genereting training set for axial\n",
        "    for n in range(mid-1,mid+2):\n",
        "         train_axial[j].append(axial_reloaded[j][n])\n",
        "train_axial=np.array(train_axial)\n",
        "train_axial=np.reshape(train_axial,(1130,256,256,3))\n",
        "print(train_axial.shape)\n",
        "\n",
        "#test data\n",
        "#reading axial directory in order\n",
        "axial_dir = os.listdir(\"/content/data/MRNet-v1.0/valid/axial/\")\n",
        "axial_dir = [f.lower() for f in axial_dir]   # Convert to lower case\n",
        "a=sorted(axial_dir)\n",
        "axialTest_list=np.array(a)\n",
        "axialTest_reloaded=[]\n",
        "\n",
        "print(axialTest_list.shape)\n",
        "\n",
        "for j in range(0,120):\n",
        "    file= \"/content/data/MRNet-v1.0/valid/axial/\"+axialTest_list[j]\n",
        "    axialTest_reloaded.append(np.load(file,allow_pickle='false'))   \n",
        "#print(axial_reloaded[100].shape)\n",
        "axialTest_reloaded=np.array(axialTest_reloaded)\n",
        "\n",
        "print(axialTest_reloaded.shape)\n",
        "\n",
        "s=axialTest_reloaded.shape\n",
        "print(axialTest_reloaded[0].shape[0])\n",
        "#print(s[1])\n",
        "test_axial=[]\n",
        "\n",
        "print(len(axialTest_reloaded))\n",
        "#just potting the images \n",
        "for j in range(len(axialTest_reloaded)):\n",
        "    mid=math.floor((axialTest_reloaded[j].shape[0])/2)\n",
        "    test_axial.append([])    \n",
        "    #genereting training set for axial\n",
        "    for n in range(mid-1,mid+2):\n",
        "         test_axial[j].append(axialTest_reloaded[j][n])\n",
        "test_axial=np.array(test_axial)\n",
        "test_axial=np.reshape(test_axial,(120,256,256,3))\n",
        "print(test_axial.shape)"
      ],
      "execution_count": 0,
      "outputs": [
        {
          "output_type": "stream",
          "text": [
            "(1131,)\n",
            "(1130,)\n",
            "44\n",
            "1130\n",
            "(1130, 256, 256, 3)\n",
            "(120,)\n",
            "(120,)\n",
            "25\n",
            "120\n",
            "(120, 256, 256, 3)\n"
          ],
          "name": "stdout"
        }
      ]
    },
    {
      "cell_type": "markdown",
      "metadata": {
        "id": "JLywW23cJSWb",
        "colab_type": "text"
      },
      "source": [
        "###InceptionV3 Model for Axial Meniscus"
      ]
    },
    {
      "cell_type": "code",
      "metadata": {
        "id": "FwBkOdWI_tjx",
        "colab_type": "code",
        "outputId": "922f07c1-d380-4947-bf94-7285a159a946",
        "colab": {
          "base_uri": "https://localhost:8080/",
          "height": 139
        }
      },
      "source": [
        "# this could also be the output a different Keras model or layer\n",
        "input_tensor = Input(shape=(256, 256,3))  # this assumes K.image_data_format() == 'channels_last'\n",
        "base_model_ax_men = InceptionV3(input_tensor=input_tensor, weights='imagenet', include_top=False)\n",
        "print(len(base_model_ax_men.layers))"
      ],
      "execution_count": 0,
      "outputs": [
        {
          "output_type": "stream",
          "text": [
            "WARNING:tensorflow:From /usr/local/lib/python3.6/dist-packages/tensorflow/python/framework/op_def_library.py:263: colocate_with (from tensorflow.python.framework.ops) is deprecated and will be removed in a future version.\n",
            "Instructions for updating:\n",
            "Colocations handled automatically by placer.\n",
            "Downloading data from https://github.com/fchollet/deep-learning-models/releases/download/v0.5/inception_v3_weights_tf_dim_ordering_tf_kernels_notop.h5\n",
            "87916544/87910968 [==============================] - 1s 0us/step\n",
            "311\n"
          ],
          "name": "stdout"
        }
      ]
    },
    {
      "cell_type": "code",
      "metadata": {
        "id": "uzEJBpRkUYX7",
        "colab_type": "code",
        "outputId": "1af1f44d-4d0e-4032-8e87-a478269fdae0",
        "colab": {
          "base_uri": "https://localhost:8080/",
          "height": 88
        }
      },
      "source": [
        "x = base_model_ax_men.output\n",
        "x = GlobalAveragePooling2D()(x)\n",
        "# let's add a fully-connected layer\n",
        "x=Dropout(0.2)(x)\n",
        "x = Dense(1024, activation='relu')(x)\n",
        "x=Dropout(0.2)(x)\n",
        "x=Dropout(0.2)(x)\n",
        "predictions = Dense(1, activation='sigmoid')(x)\n",
        "#base_model.output=x\n",
        "# this is the model we will train\n",
        "model = Model(inputs=base_model_ax_men.input,outputs=predictions)"
      ],
      "execution_count": 0,
      "outputs": [
        {
          "output_type": "stream",
          "text": [
            "WARNING:tensorflow:From /usr/local/lib/python3.6/dist-packages/keras/backend/tensorflow_backend.py:3445: calling dropout (from tensorflow.python.ops.nn_ops) with keep_prob is deprecated and will be removed in a future version.\n",
            "Instructions for updating:\n",
            "Please use `rate` instead of `keep_prob`. Rate should be set to `rate = 1 - keep_prob`.\n"
          ],
          "name": "stdout"
        }
      ]
    },
    {
      "cell_type": "code",
      "metadata": {
        "id": "uPoHK2f3r1ul",
        "colab_type": "code",
        "colab": {}
      },
      "source": [
        "for layer in model.layers[:79]:\n",
        "   layer.trainable = False\n",
        "for layer in model.layers[79:]:\n",
        "   layer.trainable = True"
      ],
      "execution_count": 0,
      "outputs": []
    },
    {
      "cell_type": "code",
      "metadata": {
        "id": "btpx20hvfyuv",
        "colab_type": "code",
        "outputId": "1c8ca8d1-4f22-4f1b-df2a-5a9e92946230",
        "colab": {
          "base_uri": "https://localhost:8080/",
          "height": 955
        }
      },
      "source": [
        "from keras.callbacks import EarlyStopping\n",
        "from keras.optimizers import SGD\n",
        "early_stopping_monitor = EarlyStopping(patience=10)    \n",
        "model.compile(optimizer=SGD(lr=0.001,momentum=0.9), loss='binary_crossentropy',metrics=['accuracy', f1_score])\n",
        "history=model.fit(train_axial ,trainMen_labels, validation_split=0.05,shuffle=True ,epochs=100, callbacks=[early_stopping_monitor], batch_size = 20)\n",
        "#model.fit(train_axial,trainMen_labels,epochs=50,batch_size=1000,validation_split=0.05,verbose=2,callbacks=[EarlyStopping(monitor='val_loss', patience=10, verbose=1, mode=\"min\")])"
      ],
      "execution_count": 0,
      "outputs": [
        {
          "output_type": "stream",
          "text": [
            "WARNING:tensorflow:From /usr/local/lib/python3.6/dist-packages/tensorflow/python/ops/math_ops.py:3066: to_int32 (from tensorflow.python.ops.math_ops) is deprecated and will be removed in a future version.\n",
            "Instructions for updating:\n",
            "Use tf.cast instead.\n",
            "Train on 1073 samples, validate on 57 samples\n",
            "Epoch 1/100\n",
            "1073/1073 [==============================] - 24s 22ms/step - loss: 0.6452 - acc: 0.6365 - f1_score: nan - val_loss: 5.0841 - val_acc: 0.5965 - val_f1_score: nan\n",
            "Epoch 2/100\n",
            "1073/1073 [==============================] - 9s 8ms/step - loss: 0.5401 - acc: 0.7241 - f1_score: nan - val_loss: 5.9742 - val_acc: 0.5965 - val_f1_score: nan\n",
            "Epoch 3/100\n",
            "1073/1073 [==============================] - 9s 8ms/step - loss: 0.4507 - acc: 0.7745 - f1_score: 0.6242 - val_loss: 4.3824 - val_acc: 0.6316 - val_f1_score: nan\n",
            "Epoch 4/100\n",
            "1073/1073 [==============================] - 9s 8ms/step - loss: 0.3356 - acc: 0.8583 - f1_score: 0.7842 - val_loss: 4.6365 - val_acc: 0.6140 - val_f1_score: 0.4659\n",
            "Epoch 5/100\n",
            "1073/1073 [==============================] - 9s 8ms/step - loss: 0.2232 - acc: 0.9301 - f1_score: 0.8922 - val_loss: 5.3748 - val_acc: 0.5789 - val_f1_score: 0.4721\n",
            "Epoch 6/100\n",
            "1073/1073 [==============================] - 9s 9ms/step - loss: 0.1356 - acc: 0.9571 - f1_score: 0.9311 - val_loss: 4.9866 - val_acc: 0.5965 - val_f1_score: nan\n",
            "Epoch 7/100\n",
            "1073/1073 [==============================] - 9s 9ms/step - loss: 0.0656 - acc: 0.9832 - f1_score: 0.9714 - val_loss: 4.6211 - val_acc: 0.5965 - val_f1_score: 0.3085\n",
            "Epoch 8/100\n",
            "1073/1073 [==============================] - 9s 9ms/step - loss: 0.0677 - acc: 0.9814 - f1_score: 0.9706 - val_loss: 4.8514 - val_acc: 0.5439 - val_f1_score: 0.3788\n",
            "Epoch 9/100\n",
            "1073/1073 [==============================] - 9s 9ms/step - loss: 0.0571 - acc: 0.9860 - f1_score: 0.9781 - val_loss: 4.7144 - val_acc: 0.5965 - val_f1_score: 0.3289\n",
            "Epoch 10/100\n",
            "1073/1073 [==============================] - 9s 9ms/step - loss: 0.0674 - acc: 0.9832 - f1_score: 0.9684 - val_loss: 6.5835 - val_acc: 0.5263 - val_f1_score: 0.2956\n",
            "Epoch 11/100\n",
            "1073/1073 [==============================] - 9s 9ms/step - loss: 0.0458 - acc: 0.9879 - f1_score: 0.9778 - val_loss: 4.8567 - val_acc: 0.6491 - val_f1_score: 0.4758\n",
            "Epoch 12/100\n",
            "1073/1073 [==============================] - 9s 9ms/step - loss: 0.0391 - acc: 0.9925 - f1_score: 0.9806 - val_loss: 4.3659 - val_acc: 0.7018 - val_f1_score: 0.4935\n",
            "Epoch 13/100\n",
            "1073/1073 [==============================] - 9s 9ms/step - loss: 0.0415 - acc: 0.9851 - f1_score: 0.9745 - val_loss: 5.1753 - val_acc: 0.6491 - val_f1_score: 0.3385\n",
            "Epoch 14/100\n",
            "1073/1073 [==============================] - 9s 9ms/step - loss: 0.0465 - acc: 0.9842 - f1_score: 0.9766 - val_loss: 4.4844 - val_acc: 0.6842 - val_f1_score: 0.5000\n",
            "Epoch 15/100\n",
            "1073/1073 [==============================] - 9s 9ms/step - loss: 0.0340 - acc: 0.9888 - f1_score: 0.9832 - val_loss: 4.0348 - val_acc: 0.7193 - val_f1_score: 0.4890\n",
            "Epoch 16/100\n",
            "1073/1073 [==============================] - 9s 9ms/step - loss: 0.0318 - acc: 0.9925 - f1_score: 0.9857 - val_loss: 4.6357 - val_acc: 0.7018 - val_f1_score: 0.3723\n",
            "Epoch 17/100\n",
            "1073/1073 [==============================] - 9s 9ms/step - loss: 0.0265 - acc: 0.9916 - f1_score: 0.9857 - val_loss: 5.3239 - val_acc: 0.6667 - val_f1_score: nan\n",
            "Epoch 18/100\n",
            "1073/1073 [==============================] - 9s 9ms/step - loss: 0.0272 - acc: 0.9907 - f1_score: 0.9861 - val_loss: 6.1263 - val_acc: 0.6140 - val_f1_score: nan\n",
            "Epoch 19/100\n",
            "1073/1073 [==============================] - 9s 9ms/step - loss: 0.0299 - acc: 0.9925 - f1_score: 0.9895 - val_loss: 4.8680 - val_acc: 0.6667 - val_f1_score: nan\n",
            "Epoch 20/100\n",
            "1073/1073 [==============================] - 9s 9ms/step - loss: 0.0357 - acc: 0.9832 - f1_score: 0.9645 - val_loss: 5.6507 - val_acc: 0.6316 - val_f1_score: nan\n",
            "Epoch 21/100\n",
            "1073/1073 [==============================] - 9s 9ms/step - loss: 0.0251 - acc: 0.9916 - f1_score: 0.9849 - val_loss: 6.2210 - val_acc: 0.6140 - val_f1_score: nan\n",
            "Epoch 22/100\n",
            "1073/1073 [==============================] - 9s 9ms/step - loss: 0.0330 - acc: 0.9879 - f1_score: 0.9769 - val_loss: 6.2210 - val_acc: 0.6140 - val_f1_score: nan\n",
            "Epoch 23/100\n",
            "1073/1073 [==============================] - 9s 9ms/step - loss: 0.0328 - acc: 0.9897 - f1_score: 0.9829 - val_loss: 6.2210 - val_acc: 0.6140 - val_f1_score: nan\n",
            "Epoch 24/100\n",
            "1073/1073 [==============================] - 9s 9ms/step - loss: 0.0238 - acc: 0.9925 - f1_score: 0.9882 - val_loss: 6.2210 - val_acc: 0.6140 - val_f1_score: nan\n",
            "Epoch 25/100\n",
            "1073/1073 [==============================] - 9s 9ms/step - loss: 0.0327 - acc: 0.9897 - f1_score: 0.9810 - val_loss: 6.2210 - val_acc: 0.6140 - val_f1_score: nan\n"
          ],
          "name": "stdout"
        }
      ]
    },
    {
      "cell_type": "markdown",
      "metadata": {
        "id": "4LHGDU-xtbvJ",
        "colab_type": "text"
      },
      "source": [
        "####Plotting accuracy of both training and validation sets per epoch."
      ]
    },
    {
      "cell_type": "code",
      "metadata": {
        "id": "eJh9LZBSrfij",
        "colab_type": "code",
        "outputId": "10fade6e-b0e7-42e9-d9cf-994cc269b98d",
        "colab": {
          "base_uri": "https://localhost:8080/",
          "height": 295
        }
      },
      "source": [
        "p = np.array(model.predict(train_axial))\n",
        "train_Men_pred.append(p)\n",
        "p = np.array(model.predict(test_axial))\n",
        "test_Men_pred.append(p)\n",
        "\n",
        "# summarize history for accuracy\n",
        "plt.plot(history.history['acc'])\n",
        "plt.plot(history.history['val_acc'])\n",
        "plt.plot(history.history['f1_score'])\n",
        "plt.title('model accuracy')\n",
        "plt.ylabel('accuracy')\n",
        "plt.xlabel('epoch')\n",
        "plt.legend(['train', 'test', 'f1score'], loc='upper left')\n",
        "plt.grid() \n",
        "plt.show()"
      ],
      "execution_count": 0,
      "outputs": [
        {
          "output_type": "display_data",
          "data": {
            "image/png": "[encoded data removed]",
            "text/plain": [
              "<Figure size 432x288 with 1 Axes>"
            ]
          },
          "metadata": {
            "tags": []
          }
        }
      ]
    },
    {
      "cell_type": "markdown",
      "metadata": {
        "id": "wmZf2R0ezncx",
        "colab_type": "text"
      },
      "source": [
        "###InceptionV3 Model for Axial ACL"
      ]
    },
    {
      "cell_type": "code",
      "metadata": {
        "id": "W91sxbOZzgVF",
        "colab_type": "code",
        "colab": {}
      },
      "source": [
        "# this could also be the output a different Keras model or layer\n",
        "input_tensor = Input(shape=(256, 256,3))  # this assumes K.image_data_format() == 'channels_last'\n",
        "base_model_ax_ACL = InceptionV3(input_tensor=input_tensor, weights='imagenet', include_top=False)"
      ],
      "execution_count": 0,
      "outputs": []
    },
    {
      "cell_type": "code",
      "metadata": {
        "id": "yEnh6bpQzw0s",
        "colab_type": "code",
        "colab": {}
      },
      "source": [
        "x = base_model_ax_ACL.output\n",
        "x = GlobalAveragePooling2D()(x)\n",
        "# let's add a fully-connected layer\n",
        "x=Dropout(0.2)(x)\n",
        "x = Dense(1024, activation='relu')(x)\n",
        "x=Dropout(0.2)(x)\n",
        "x=Dropout(0.2)(x)\n",
        "predictions = Dense(1, activation='sigmoid')(x)\n",
        "#base_model.output=x\n",
        "# this is the model we will train\n",
        "model2 = Model(inputs=base_model_ax_ACL.input,outputs=predictions)"
      ],
      "execution_count": 0,
      "outputs": []
    },
    {
      "cell_type": "code",
      "metadata": {
        "id": "Qcy9VIrbz0uS",
        "colab_type": "code",
        "colab": {}
      },
      "source": [
        "for layer in model2.layers[:79]:\n",
        "   layer.trainable = False\n",
        "for layer in model2.layers[79:]:\n",
        "   layer.trainable = True"
      ],
      "execution_count": 0,
      "outputs": []
    },
    {
      "cell_type": "code",
      "metadata": {
        "id": "K5bkMw8rz53v",
        "colab_type": "code",
        "outputId": "3ba04da4-671d-4945-e40a-13880fc07b41",
        "colab": {
          "base_uri": "https://localhost:8080/",
          "height": 428
        }
      },
      "source": [
        "from keras.callbacks import EarlyStopping\n",
        "from keras.optimizers import SGD\n",
        "early_stopping_monitor = EarlyStopping(patience=10)    \n",
        "model2.compile(optimizer=SGD(lr=0.001,momentum=0.9), loss='binary_crossentropy',metrics=['accuracy',f1_score])\n",
        "history2=model2.fit(train_axial ,trainACL_labels, validation_split=0.05,shuffle=True ,epochs=100, callbacks=[early_stopping_monitor], batch_size = 20)\n",
        "#model.fit(train_axial,trainMen_labels,epochs=50,batch_size=1000,validation_split=0.05,verbose=2,callbacks=[EarlyStopping(monitor='val_loss', patience=10, verbose=1, mode=\"min\")])"
      ],
      "execution_count": 0,
      "outputs": [
        {
          "output_type": "stream",
          "text": [
            "Train on 1073 samples, validate on 57 samples\n",
            "Epoch 1/100\n",
            "1073/1073 [==============================] - 19s 18ms/step - loss: 0.4985 - acc: 0.7940 - f1_score: nan - val_loss: 2.5450 - val_acc: 0.8421 - val_f1_score: nan\n",
            "Epoch 2/100\n",
            "1073/1073 [==============================] - 9s 9ms/step - loss: 0.3677 - acc: 0.8220 - f1_score: nan - val_loss: 2.5450 - val_acc: 0.8421 - val_f1_score: nan\n",
            "Epoch 3/100\n",
            "1073/1073 [==============================] - 9s 9ms/step - loss: 0.2824 - acc: 0.8537 - f1_score: nan - val_loss: 2.5450 - val_acc: 0.8421 - val_f1_score: nan\n",
            "Epoch 4/100\n",
            "1073/1073 [==============================] - 9s 9ms/step - loss: 0.2116 - acc: 0.9171 - f1_score: nan - val_loss: 2.5450 - val_acc: 0.8421 - val_f1_score: nan\n",
            "Epoch 5/100\n",
            "1073/1073 [==============================] - 9s 9ms/step - loss: 0.1277 - acc: 0.9646 - f1_score: nan - val_loss: 2.5450 - val_acc: 0.8421 - val_f1_score: nan\n",
            "Epoch 6/100\n",
            "1073/1073 [==============================] - 9s 9ms/step - loss: 0.0732 - acc: 0.9888 - f1_score: 0.9788 - val_loss: 2.7818 - val_acc: 0.8246 - val_f1_score: nan\n",
            "Epoch 7/100\n",
            "1073/1073 [==============================] - 9s 9ms/step - loss: 0.0440 - acc: 0.9944 - f1_score: 0.9864 - val_loss: 2.9042 - val_acc: 0.7895 - val_f1_score: nan\n",
            "Epoch 8/100\n",
            "1073/1073 [==============================] - 9s 9ms/step - loss: 0.0346 - acc: 0.9981 - f1_score: nan - val_loss: 2.7333 - val_acc: 0.8246 - val_f1_score: nan\n",
            "Epoch 9/100\n",
            "1073/1073 [==============================] - 9s 9ms/step - loss: 0.0241 - acc: 0.9972 - f1_score: nan - val_loss: 2.9776 - val_acc: 0.8070 - val_f1_score: nan\n",
            "Epoch 10/100\n",
            "1073/1073 [==============================] - 9s 9ms/step - loss: 0.0189 - acc: 0.9991 - f1_score: nan - val_loss: 3.1874 - val_acc: 0.7719 - val_f1_score: nan\n",
            "Epoch 11/100\n",
            "1073/1073 [==============================] - 9s 9ms/step - loss: 0.0202 - acc: 0.9972 - f1_score: 0.9919 - val_loss: 4.1598 - val_acc: 0.7193 - val_f1_score: nan\n"
          ],
          "name": "stdout"
        }
      ]
    },
    {
      "cell_type": "code",
      "metadata": {
        "id": "0acHIajk0WVz",
        "colab_type": "code",
        "outputId": "8fc4f8cd-a3ca-4069-e106-da38d80bc3f4",
        "colab": {
          "base_uri": "https://localhost:8080/",
          "height": 349
        }
      },
      "source": [
        "p = np.array(model2.predict(train_axial))\n",
        "train_ACL_pred.append(p)\n",
        "p = np.array(model2.predict(test_axial))\n",
        "test_ACL_pred.append(p)\n",
        "\n",
        "# Show simple version of performance                           \n",
        "score2 = model2.evaluate(test_axial ,testACL_labels,verbose=1)       \n",
        "print('Train loss:',score2[0])\n",
        "print('Train accuracy:',score2[1])                          \n",
        "# Show loss curves                                          \n",
        "plt.figure()\n",
        "plt.grid()                                              \n",
        "                                                            \n",
        "plt.title('Training performance')                          \n",
        "plt.plot(history2.epoch, history2.history['loss'], label='train loss+error')  \n",
        "plt.plot(history2.epoch, history2.history['val_loss'], label='val_error')\n",
        "plt.plot(history2.epoch, history2.history['f1_score'], label='f1_score')\n",
        "plt.legend()"
      ],
      "execution_count": 0,
      "outputs": [
        {
          "output_type": "stream",
          "text": [
            "120/120 [==============================] - 0s 3ms/step\n",
            "Train loss: 6.877885214487711\n",
            "Train accuracy: 0.5583333333333333\n"
          ],
          "name": "stdout"
        },
        {
          "output_type": "execute_result",
          "data": {
            "text/plain": [
              "<matplotlib.legend.Legend at 0x7f5aa8be9be0>"
            ]
          },
          "metadata": {
            "tags": []
          },
          "execution_count": 18
        },
        {
          "output_type": "display_data",
          "data": {
            "image/png": "[encoded data removed]",
            "text/plain": [
              "<Figure size 432x288 with 1 Axes>"
            ]
          },
          "metadata": {
            "tags": []
          }
        }
      ]
    },
    {
      "cell_type": "markdown",
      "metadata": {
        "id": "JIzTeIQJ08Ep",
        "colab_type": "text"
      },
      "source": [
        "###InceptionV3 Model for Axial Abnormal"
      ]
    },
    {
      "cell_type": "code",
      "metadata": {
        "id": "L-L9iI9z0-wB",
        "colab_type": "code",
        "colab": {}
      },
      "source": [
        "# this could also be the output a different Keras model or layer\n",
        "input_tensor = Input(shape=(256, 256,3))  # this assumes K.image_data_format() == 'channels_last'\n",
        "base_model_ax_AB = InceptionV3(input_tensor=input_tensor, weights='imagenet', include_top=False)"
      ],
      "execution_count": 0,
      "outputs": []
    },
    {
      "cell_type": "code",
      "metadata": {
        "id": "y2exvZb-19SL",
        "colab_type": "code",
        "colab": {}
      },
      "source": [
        "x = base_model_ax_AB.output\n",
        "x = GlobalAveragePooling2D()(x)\n",
        "# let's add a fully-connected layer\n",
        "x=Dropout(0.2)(x)\n",
        "x = Dense(1024, activation='relu')(x)\n",
        "x=Dropout(0.2)(x)\n",
        "x=Dropout(0.2)(x)\n",
        "predictions = Dense(1, activation='sigmoid')(x)\n",
        "#base_model.output=x\n",
        "# this is the model we will train\n",
        "model3 = Model(inputs=base_model_ax_AB.input,outputs=predictions)"
      ],
      "execution_count": 0,
      "outputs": []
    },
    {
      "cell_type": "code",
      "metadata": {
        "id": "a7mXwAtA2IL0",
        "colab_type": "code",
        "colab": {}
      },
      "source": [
        "for layer in model3.layers[:79]:\n",
        "   layer.trainable = False\n",
        "for layer in model3.layers[79:]:\n",
        "   layer.trainable = True"
      ],
      "execution_count": 0,
      "outputs": []
    },
    {
      "cell_type": "code",
      "metadata": {
        "id": "gfK3QM3Y2OBx",
        "colab_type": "code",
        "outputId": "4183a0c8-0412-4436-ba7b-1b50a8bf2348",
        "colab": {
          "base_uri": "https://localhost:8080/",
          "height": 428
        }
      },
      "source": [
        "from keras.callbacks import EarlyStopping\n",
        "from keras.optimizers import SGD\n",
        "early_stopping_monitor = EarlyStopping(patience=10)    \n",
        "model3.compile(optimizer=SGD(lr=0.001,momentum=0.9), loss='binary_crossentropy',metrics=['accuracy',f1_score])\n",
        "history3=model3.fit(train_axial ,trainAb_labels, validation_split=0.05,shuffle=True ,epochs=100, callbacks=[early_stopping_monitor], batch_size = 20)\n",
        "#model.fit(train_axial,trainMen_labels,epochs=50,batch_size=1000,validation_split=0.05,verbose=2,callbacks=[EarlyStopping(monitor='val_loss', patience=10, verbose=1, mode=\"min\")])"
      ],
      "execution_count": 0,
      "outputs": [
        {
          "output_type": "stream",
          "text": [
            "Train on 1073 samples, validate on 57 samples\n",
            "Epoch 1/100\n",
            "1073/1073 [==============================] - 23s 22ms/step - loss: 0.0361 - acc: 0.9888 - f1_score: 0.9850 - val_loss: 6.2210 - val_acc: 0.6140 - val_f1_score: nan\n",
            "Epoch 2/100\n",
            "1073/1073 [==============================] - 9s 9ms/step - loss: 0.0565 - acc: 0.9814 - f1_score: 0.9641 - val_loss: 6.2210 - val_acc: 0.6140 - val_f1_score: nan\n",
            "Epoch 3/100\n",
            "1073/1073 [==============================] - 10s 9ms/step - loss: 0.0246 - acc: 0.9953 - f1_score: 0.9914 - val_loss: 6.2210 - val_acc: 0.6140 - val_f1_score: nan\n",
            "Epoch 4/100\n",
            "1073/1073 [==============================] - 9s 9ms/step - loss: 0.0307 - acc: 0.9907 - f1_score: 0.9769 - val_loss: 6.2210 - val_acc: 0.6140 - val_f1_score: nan\n",
            "Epoch 5/100\n",
            "1073/1073 [==============================] - 9s 9ms/step - loss: 0.0278 - acc: 0.9916 - f1_score: 0.9861 - val_loss: 6.2210 - val_acc: 0.6140 - val_f1_score: nan\n",
            "Epoch 6/100\n",
            "1073/1073 [==============================] - 9s 9ms/step - loss: 0.0207 - acc: 0.9935 - f1_score: 0.9897 - val_loss: 6.2210 - val_acc: 0.6140 - val_f1_score: nan\n",
            "Epoch 7/100\n",
            "1073/1073 [==============================] - 9s 9ms/step - loss: 0.0414 - acc: 0.9860 - f1_score: 0.9733 - val_loss: 6.2210 - val_acc: 0.6140 - val_f1_score: nan\n",
            "Epoch 8/100\n",
            "1073/1073 [==============================] - 9s 9ms/step - loss: 0.0261 - acc: 0.9897 - f1_score: 0.9802 - val_loss: 6.2210 - val_acc: 0.6140 - val_f1_score: nan\n",
            "Epoch 9/100\n",
            "1073/1073 [==============================] - 9s 9ms/step - loss: 0.0212 - acc: 0.9925 - f1_score: 0.9855 - val_loss: 6.2210 - val_acc: 0.6140 - val_f1_score: nan\n",
            "Epoch 10/100\n",
            "1073/1073 [==============================] - 9s 9ms/step - loss: 0.0224 - acc: 0.9935 - f1_score: 0.9863 - val_loss: 6.2210 - val_acc: 0.6140 - val_f1_score: nan\n",
            "Epoch 11/100\n",
            "1073/1073 [==============================] - 9s 9ms/step - loss: 0.0172 - acc: 0.9953 - f1_score: 0.9913 - val_loss: 6.2210 - val_acc: 0.6140 - val_f1_score: nan\n"
          ],
          "name": "stdout"
        }
      ]
    },
    {
      "cell_type": "code",
      "metadata": {
        "id": "8qVUA8jD2ZWb",
        "colab_type": "code",
        "outputId": "1d174575-bd8c-4f30-8940-b365653eb9f0",
        "colab": {
          "base_uri": "https://localhost:8080/",
          "height": 349
        }
      },
      "source": [
        "p = np.array(model3.predict(train_axial))\n",
        "train_Ab_pred.append(p)\n",
        "p = np.array(model3.predict(test_axial))\n",
        "test_Ab_pred.append(p)\n",
        "\n",
        "# Show simple version of performance                           \n",
        "score3 = model3.evaluate(test_axial ,testAb_labels,verbose=1)       \n",
        "print('Test loss:',score3[0])\n",
        "print('Test accuracy:',score3[1])                          \n",
        "# Show loss curves                                          \n",
        "plt.figure()\n",
        "plt.grid()                                              \n",
        "                                                            \n",
        "plt.title('Training performance')                          \n",
        "plt.plot(history3.epoch, history3.history['loss'], label='train loss+error')  \n",
        "plt.plot(history3.epoch, history3.history['val_loss'], label='val_error') \n",
        "plt.plot(history3.epoch, history3.history['f1_score'], label='f1_score') \n",
        "plt.legend()"
      ],
      "execution_count": 0,
      "outputs": [
        {
          "output_type": "stream",
          "text": [
            "120/120 [==============================] - 0s 3ms/step\n",
            "Test loss: 12.760158793131511\n",
            "Test accuracy: 0.20833333333333334\n"
          ],
          "name": "stdout"
        },
        {
          "output_type": "execute_result",
          "data": {
            "text/plain": [
              "<matplotlib.legend.Legend at 0x7f5a9d913e48>"
            ]
          },
          "metadata": {
            "tags": []
          },
          "execution_count": 24
        },
        {
          "output_type": "display_data",
          "data": {
            "image/png": "[encoded data removed]",
            "text/plain": [
              "<Figure size 432x288 with 1 Axes>"
            ]
          },
          "metadata": {
            "tags": []
          }
        }
      ]
    },
    {
      "cell_type": "code",
      "metadata": {
        "id": "K-U-NrNAC3Gl",
        "colab_type": "code",
        "colab": {}
      },
      "source": [
        "del train_axial\n",
        "del test_axial\n",
        "del axial_dir\n",
        "del axial_reloaded\n",
        "del axialTest_reloaded\n",
        "del axial_list\n",
        "del axialTest_list\n",
        "\n",
        "del model\n",
        "del model2\n",
        "del model3\n",
        "\n",
        "del base_model_ax_men\n",
        "del base_model_ax_ACL\n",
        "del base_model_ax_AB\n",
        "\n",
        "del p\n"
      ],
      "execution_count": 0,
      "outputs": []
    },
    {
      "cell_type": "markdown",
      "metadata": {
        "id": "gvtnuUab3sGt",
        "colab_type": "text"
      },
      "source": [
        "##Coronal"
      ]
    },
    {
      "cell_type": "markdown",
      "metadata": {
        "id": "VJKP50dP-T7d",
        "colab_type": "text"
      },
      "source": [
        "###Reading train & test data"
      ]
    },
    {
      "cell_type": "code",
      "metadata": {
        "id": "sL-8TZ2J36tA",
        "colab_type": "code",
        "outputId": "d6ffcb51-048c-41dd-e8dd-193b1733bfc7",
        "colab": {
          "base_uri": "https://localhost:8080/",
          "height": 119
        }
      },
      "source": [
        "#reading coronal directery in order\n",
        "coronal_dir = os.listdir(\"/content/data/MRNet-v1.0/train/coronal/\")\n",
        "coronal_dir = [f.lower() for f in coronal_dir]   # Convert to lower case\n",
        "c=sorted(coronal_dir)\n",
        "coronal_list=np.array(c)\n",
        "coronal_reloaded=[]\n",
        "print(coronal_list.shape)\n",
        "for j in range(1,1131):\n",
        "    file2= \"/content/data/MRNet-v1.0/train/coronal/\"+coronal_list[j]\n",
        "    coronal_reloaded.append(np.load(file2,allow_pickle='false'))\n",
        "\n",
        "coronal_reloaded=np.array(coronal_reloaded)\n",
        "print(coronal_reloaded.shape)\n",
        "train_coronal=[]\n",
        " \n",
        "for j in range(len(coronal_reloaded)):\n",
        "    mid2=math.floor((coronal_reloaded[j].shape[0])/2)\n",
        "    train_coronal.append([])\n",
        "    #genereting training set for coronal    \n",
        "    for n in range(mid2-1,mid2+2):\n",
        "         train_coronal[j].append(coronal_reloaded[j][n])\n",
        "\n",
        "train_coronal=np.array(train_coronal)\n",
        "train_coronal=np.reshape(train_coronal,(1130,256,256,3))\n",
        "print(train_coronal.shape)\n",
        "\n",
        "\n",
        "#Test\n",
        "#reading coronal directery in order\n",
        "coronal_dir = os.listdir(\"/content/data/MRNet-v1.0/valid/coronal/\")\n",
        "coronal_dir = [f.lower() for f in coronal_dir]   # Convert to lower case\n",
        "c=sorted(coronal_dir)\n",
        "coronalTest_list=np.array(c)\n",
        "coronalTest_reloaded=[]\n",
        "print(coronalTest_list.shape)\n",
        "for j in range(0,120):\n",
        "    file2= \"/content/data/MRNet-v1.0/valid/coronal/\"+coronalTest_list[j]\n",
        "    coronalTest_reloaded.append(np.load(file2,allow_pickle='false'))\n",
        "\n",
        "coronalTest_reloaded=np.array(coronalTest_reloaded)\n",
        "print(coronalTest_reloaded.shape)\n",
        "test_coronal=[]\n",
        " \n",
        "for j in range(len(coronalTest_reloaded)):\n",
        "    mid2=math.floor((coronalTest_reloaded[j].shape[0])/2)\n",
        "    test_coronal.append([])\n",
        "    #genereting training set for coronal    \n",
        "    for n in range(mid2-1,mid2+2):\n",
        "         test_coronal[j].append(coronalTest_reloaded[j][n])\n",
        "\n",
        "test_coronal=np.array(test_coronal)\n",
        "test_coronal=np.reshape(test_coronal,(120,256,256,3))\n",
        "print(test_coronal.shape)\n",
        "\n"
      ],
      "execution_count": 0,
      "outputs": [
        {
          "output_type": "stream",
          "text": [
            "(1131,)\n",
            "(1130,)\n",
            "(1130, 256, 256, 3)\n",
            "(120,)\n",
            "(120,)\n",
            "(120, 256, 256, 3)\n"
          ],
          "name": "stdout"
        }
      ]
    },
    {
      "cell_type": "markdown",
      "metadata": {
        "id": "RM003h3Y46L-",
        "colab_type": "text"
      },
      "source": [
        "###InceptionV3 Model for Coronal Menscuis"
      ]
    },
    {
      "cell_type": "code",
      "metadata": {
        "id": "N-4cC08a50ot",
        "colab_type": "code",
        "colab": {}
      },
      "source": [
        "# this could also be the output a different Keras model or layer\n",
        "input_tensor = Input(shape=(256, 256,3))  # this assumes K.image_data_format() == 'channels_last'\n",
        "base_model_Co_Men = InceptionV3(input_tensor=input_tensor, weights='imagenet', include_top=False)"
      ],
      "execution_count": 0,
      "outputs": []
    },
    {
      "cell_type": "code",
      "metadata": {
        "id": "HRaoDsnw57HB",
        "colab_type": "code",
        "colab": {}
      },
      "source": [
        "x = base_model_Co_Men.output\n",
        "x = GlobalAveragePooling2D()(x)\n",
        "# let's add a fully-connected layer\n",
        "x=Dropout(0.2)(x)\n",
        "x = Dense(1024, activation='relu')(x)\n",
        "x=Dropout(0.2)(x)\n",
        "x=Dropout(0.2)(x)\n",
        "predictions = Dense(1, activation='sigmoid')(x)\n",
        "#base_model.output=x\n",
        "# this is the model we will train\n",
        "model4 = Model(inputs=base_model_Co_Men.input,outputs=predictions)"
      ],
      "execution_count": 0,
      "outputs": []
    },
    {
      "cell_type": "code",
      "metadata": {
        "id": "Xa1OIRRw5_q-",
        "colab_type": "code",
        "colab": {}
      },
      "source": [
        "for layer in model4.layers[:79]:\n",
        "   layer.trainable = False\n",
        "for layer in model4.layers[79:]:\n",
        "   layer.trainable = True"
      ],
      "execution_count": 0,
      "outputs": []
    },
    {
      "cell_type": "code",
      "metadata": {
        "id": "0sTn67eX6GyY",
        "colab_type": "code",
        "outputId": "e83265f4-c557-47b7-fe39-2bcaccf0e746",
        "colab": {
          "base_uri": "https://localhost:8080/",
          "height": 258
        }
      },
      "source": [
        "from keras.callbacks import EarlyStopping\n",
        "from keras.optimizers import SGD\n",
        "early_stopping_monitor = EarlyStopping(patience=5)    \n",
        "model4.compile(optimizer=SGD(lr=0.001,momentum=0.9), loss='binary_crossentropy',metrics=['accuracy',f1_score])\n",
        "history4=model4.fit(train_coronal ,trainMen_labels, validation_split=0.05,shuffle=True ,epochs=100, callbacks=[early_stopping_monitor], batch_size = 20)\n",
        "#model.fit(train_axial,trainMen_labels,epochs=50,batch_size=1000,validation_split=0.05,verbose=2,callbacks=[EarlyStopping(monitor='val_loss', patience=10, verbose=1, mode=\"min\")])"
      ],
      "execution_count": 0,
      "outputs": [
        {
          "output_type": "stream",
          "text": [
            "Train on 1073 samples, validate on 57 samples\n",
            "Epoch 1/100\n",
            "1073/1073 [==============================] - 27s 25ms/step - loss: 0.6604 - acc: 0.6244 - f1_score: nan - val_loss: 6.5609 - val_acc: 0.5789 - val_f1_score: nan\n",
            "Epoch 2/100\n",
            "1073/1073 [==============================] - 10s 9ms/step - loss: 0.5640 - acc: 0.6952 - f1_score: nan - val_loss: 9.3702 - val_acc: 0.3684 - val_f1_score: 0.2162\n",
            "Epoch 3/100\n",
            "1073/1073 [==============================] - 10s 9ms/step - loss: 0.4794 - acc: 0.7679 - f1_score: 0.6148 - val_loss: 6.8206 - val_acc: 0.5439 - val_f1_score: nan\n",
            "Epoch 4/100\n",
            "1073/1073 [==============================] - 9s 9ms/step - loss: 0.3598 - acc: 0.8565 - f1_score: 0.7685 - val_loss: 8.8021 - val_acc: 0.3860 - val_f1_score: 0.5040\n",
            "Epoch 5/100\n",
            "1073/1073 [==============================] - 9s 9ms/step - loss: 0.2175 - acc: 0.9348 - f1_score: 0.9000 - val_loss: 8.6858 - val_acc: 0.4035 - val_f1_score: 0.4834\n",
            "Epoch 6/100\n",
            "1073/1073 [==============================] - 9s 9ms/step - loss: 0.1224 - acc: 0.9702 - f1_score: 0.9585 - val_loss: 7.4260 - val_acc: 0.4912 - val_f1_score: 0.5619\n"
          ],
          "name": "stdout"
        }
      ]
    },
    {
      "cell_type": "code",
      "metadata": {
        "id": "EsGIEL8-jvLQ",
        "colab_type": "code",
        "outputId": "183fbed8-1cdb-4b93-d8ee-85d7334f7056",
        "colab": {
          "base_uri": "https://localhost:8080/",
          "height": 349
        }
      },
      "source": [
        "p = np.array(model4.predict(train_coronal))\n",
        "train_Men_pred.append(p)\n",
        "p = np.array(model4.predict(test_coronal))\n",
        "test_Men_pred.append(p)\n",
        "\n",
        "score4 = model4.evaluate(test_coronal ,testMen_labels,verbose=1)       \n",
        "print('Test loss:',score4[0])\n",
        "print('Test accuracy:',score4[1])                          \n",
        "# Show loss curves                                          \n",
        "plt.figure()\n",
        "plt.grid()                                              \n",
        "                                                            \n",
        "plt.title('Training performance')                          \n",
        "plt.plot(history4.epoch, history4.history['loss'], label='train loss+error')  \n",
        "plt.plot(history4.epoch, history4.history['val_loss'], label='val_error')  \n",
        "plt.plot(history4.epoch, history4.history['f1_score'], label='f1_score')  \n",
        "plt.legend()"
      ],
      "execution_count": 0,
      "outputs": [
        {
          "output_type": "stream",
          "text": [
            "120/120 [==============================] - 0s 4ms/step\n",
            "Test loss: 8.38684416214625\n",
            "Test accuracy: 0.45833332935969034\n"
          ],
          "name": "stdout"
        },
        {
          "output_type": "execute_result",
          "data": {
            "text/plain": [
              "<matplotlib.legend.Legend at 0x7f5a94b19da0>"
            ]
          },
          "metadata": {
            "tags": []
          },
          "execution_count": 31
        },
        {
          "output_type": "display_data",
          "data": {
            "image/png": "[encoded data removed]",
            "text/plain": [
              "<Figure size 432x288 with 1 Axes>"
            ]
          },
          "metadata": {
            "tags": []
          }
        }
      ]
    },
    {
      "cell_type": "markdown",
      "metadata": {
        "colab_type": "text",
        "id": "ev8SCy58luHL"
      },
      "source": [
        "###InceptionV3 Model for Coronal ACL"
      ]
    },
    {
      "cell_type": "code",
      "metadata": {
        "colab_type": "code",
        "id": "NqYG7kydluHO",
        "colab": {}
      },
      "source": [
        "# this could also be the output a different Keras model or layer\n",
        "input_tensor = Input(shape=(256, 256,3))  # this assumes K.image_data_format() == 'channels_last'\n",
        "base_model_Co_ACL = InceptionV3(input_tensor=input_tensor, weights='imagenet', include_top=False)"
      ],
      "execution_count": 0,
      "outputs": []
    },
    {
      "cell_type": "code",
      "metadata": {
        "colab_type": "code",
        "id": "uhIvHBiIluHY",
        "colab": {}
      },
      "source": [
        "x = base_model_Co_ACL.output\n",
        "x = GlobalAveragePooling2D()(x)\n",
        "# let's add a fully-connected layer\n",
        "x=Dropout(0.2)(x)\n",
        "x = Dense(1024, activation='relu')(x)\n",
        "x=Dropout(0.2)(x)\n",
        "x=Dropout(0.2)(x)\n",
        "predictions = Dense(1, activation='sigmoid')(x)\n",
        "#base_model.output=x\n",
        "# this is the model we will train\n",
        "model5 = Model(inputs=base_model_Co_ACL.input,outputs=predictions)"
      ],
      "execution_count": 0,
      "outputs": []
    },
    {
      "cell_type": "code",
      "metadata": {
        "colab_type": "code",
        "id": "5fPQriI-luHh",
        "colab": {}
      },
      "source": [
        "for layer in model5.layers[:79]:\n",
        "   layer.trainable = False\n",
        "for layer in model5.layers[79:]:\n",
        "   layer.trainable = True"
      ],
      "execution_count": 0,
      "outputs": []
    },
    {
      "cell_type": "code",
      "metadata": {
        "colab_type": "code",
        "id": "GjmEc-AkluHx",
        "outputId": "cb80aef9-4ec8-417b-ba3f-5481ef8fcac6",
        "colab": {
          "base_uri": "https://localhost:8080/",
          "height": 462
        }
      },
      "source": [
        "from keras.callbacks import EarlyStopping\n",
        "from keras.optimizers import SGD\n",
        "early_stopping_monitor = EarlyStopping(patience=10)    \n",
        "model5.compile(optimizer=SGD(lr=0.001,momentum=0.9), loss='binary_crossentropy',metrics=['accuracy',f1_score])\n",
        "history5=model5.fit(train_coronal ,trainACL_labels, validation_split=0.05,shuffle=True ,epochs=100, callbacks=[early_stopping_monitor], batch_size = 20)\n",
        "#model.fit(train_axial,trainMen_labels,epochs=50,batch_size=1000,validation_split=0.05,verbose=2,callbacks=[EarlyStopping(monitor='val_loss', patience=10, verbose=1, mode=\"min\")])"
      ],
      "execution_count": 0,
      "outputs": [
        {
          "output_type": "stream",
          "text": [
            "Train on 1073 samples, validate on 57 samples\n",
            "Epoch 1/100\n",
            "1073/1073 [==============================] - 32s 30ms/step - loss: 0.5396 - acc: 0.7698 - f1_score: nan - val_loss: 2.5450 - val_acc: 0.8421 - val_f1_score: nan\n",
            "Epoch 2/100\n",
            "1073/1073 [==============================] - 10s 9ms/step - loss: 0.4138 - acc: 0.8145 - f1_score: nan - val_loss: 2.3338 - val_acc: 0.8421 - val_f1_score: nan\n",
            "Epoch 3/100\n",
            "1073/1073 [==============================] - 10s 9ms/step - loss: 0.3400 - acc: 0.8360 - f1_score: nan - val_loss: 3.3430 - val_acc: 0.7368 - val_f1_score: nan\n",
            "Epoch 4/100\n",
            "1073/1073 [==============================] - 9s 9ms/step - loss: 0.2057 - acc: 0.9133 - f1_score: nan - val_loss: 6.7232 - val_acc: 0.5789 - val_f1_score: 0.3603\n",
            "Epoch 5/100\n",
            "1073/1073 [==============================] - 9s 9ms/step - loss: 0.1189 - acc: 0.9767 - f1_score: 0.9439 - val_loss: 9.6107 - val_acc: 0.3860 - val_f1_score: 0.3382\n",
            "Epoch 6/100\n",
            "1073/1073 [==============================] - 9s 9ms/step - loss: 0.0677 - acc: 0.9925 - f1_score: nan - val_loss: 12.0318 - val_acc: 0.2456 - val_f1_score: 0.2923\n",
            "Epoch 7/100\n",
            "1073/1073 [==============================] - 9s 9ms/step - loss: 0.0454 - acc: 0.9953 - f1_score: nan - val_loss: 12.8658 - val_acc: 0.1930 - val_f1_score: 0.2789\n",
            "Epoch 8/100\n",
            "1073/1073 [==============================] - 9s 9ms/step - loss: 0.0344 - acc: 0.9935 - f1_score: nan - val_loss: 13.1455 - val_acc: 0.1754 - val_f1_score: 0.2748\n",
            "Epoch 9/100\n",
            "1073/1073 [==============================] - 9s 9ms/step - loss: 0.0433 - acc: 0.9851 - f1_score: 0.9584 - val_loss: 13.4252 - val_acc: 0.1579 - val_f1_score: 0.2713\n",
            "Epoch 10/100\n",
            "1073/1073 [==============================] - 9s 9ms/step - loss: 0.0272 - acc: 0.9935 - f1_score: nan - val_loss: 13.4252 - val_acc: 0.1579 - val_f1_score: 0.2713\n",
            "Epoch 11/100\n",
            "1073/1073 [==============================] - 9s 9ms/step - loss: 0.0202 - acc: 0.9963 - f1_score: 0.9880 - val_loss: 13.4252 - val_acc: 0.1579 - val_f1_score: 0.2713\n",
            "Epoch 12/100\n",
            "1073/1073 [==============================] - 9s 9ms/step - loss: 0.0247 - acc: 0.9925 - f1_score: nan - val_loss: 13.4252 - val_acc: 0.1579 - val_f1_score: 0.2713\n"
          ],
          "name": "stdout"
        }
      ]
    },
    {
      "cell_type": "code",
      "metadata": {
        "colab_type": "code",
        "id": "61nsbN5vluH8",
        "outputId": "72a333cf-ac10-4064-f792-53ebfd445b3c",
        "colab": {
          "base_uri": "https://localhost:8080/",
          "height": 366
        }
      },
      "source": [
        "p = np.array(model5.predict(train_coronal))\n",
        "train_ACL_pred.append(p)\n",
        "p = np.array(model5.predict(test_coronal, verbose=1))\n",
        "test_ACL_pred.append(p)\n",
        "\n",
        "# Show simple version of performance                           \n",
        "score5 = model5.evaluate(test_coronal ,testACL_labels,verbose=1)       \n",
        "print('Test loss:',score5[0])\n",
        "print('Test accuracy:',score5[1])                          \n",
        "# Show loss curves                                          \n",
        "plt.figure()\n",
        "plt.grid()                                              \n",
        "                                                            \n",
        "plt.title('Training performance')                          \n",
        "plt.plot(history5.epoch, history5.history['loss'], label='train loss+error')  \n",
        "plt.plot(history5.epoch, history5.history['val_loss'], label='val_error') \n",
        "plt.plot(history5.epoch, history5.history['f1_score'], label='f1_score') \n",
        "plt.legend()"
      ],
      "execution_count": 0,
      "outputs": [
        {
          "output_type": "stream",
          "text": [
            "120/120 [==============================] - 0s 4ms/step\n",
            "120/120 [==============================] - 0s 4ms/step\n",
            "Test loss: 8.768311882019043\n",
            "Test accuracy: 0.45\n"
          ],
          "name": "stdout"
        },
        {
          "output_type": "execute_result",
          "data": {
            "text/plain": [
              "<matplotlib.legend.Legend at 0x7f5a8bcb1cf8>"
            ]
          },
          "metadata": {
            "tags": []
          },
          "execution_count": 36
        },
        {
          "output_type": "display_data",
          "data": {
            "image/png": "[encoded data removed]",
            "text/plain": [
              "<Figure size 432x288 with 1 Axes>"
            ]
          },
          "metadata": {
            "tags": []
          }
        }
      ]
    },
    {
      "cell_type": "markdown",
      "metadata": {
        "colab_type": "text",
        "id": "p4460kOMm_LA"
      },
      "source": [
        "###InceptionV3 Model for Coronal Abnormal"
      ]
    },
    {
      "cell_type": "code",
      "metadata": {
        "colab_type": "code",
        "id": "5mMGdm5dm_LC",
        "colab": {}
      },
      "source": [
        "# this could also be the output a different Keras model or layer\n",
        "input_tensor = Input(shape=(256, 256,3))  # this assumes K.image_data_format() == 'channels_last'\n",
        "base_model_Co_Ab = InceptionV3(input_tensor=input_tensor, weights='imagenet', include_top=False)"
      ],
      "execution_count": 0,
      "outputs": []
    },
    {
      "cell_type": "code",
      "metadata": {
        "colab_type": "code",
        "id": "wXUGXsfLm_LF",
        "colab": {}
      },
      "source": [
        "x = base_model_Co_Ab.output\n",
        "x = GlobalAveragePooling2D()(x)\n",
        "# let's add a fully-connected layer\n",
        "x=Dropout(0.2)(x)\n",
        "x = Dense(1024, activation='relu')(x)\n",
        "x=Dropout(0.2)(x)\n",
        "x=Dropout(0.2)(x)\n",
        "predictions = Dense(1, activation='sigmoid')(x)\n",
        "#base_model.output=x\n",
        "# this is the model we will train\n",
        "model6 = Model(inputs=base_model_Co_Ab.input,outputs=predictions)"
      ],
      "execution_count": 0,
      "outputs": []
    },
    {
      "cell_type": "code",
      "metadata": {
        "colab_type": "code",
        "id": "b9YffZeim_LH",
        "colab": {}
      },
      "source": [
        "for layer in model6.layers[:79]:\n",
        "   layer.trainable = False\n",
        "for layer in model6.layers[79:]:\n",
        "   layer.trainable = True"
      ],
      "execution_count": 0,
      "outputs": []
    },
    {
      "cell_type": "code",
      "metadata": {
        "colab_type": "code",
        "id": "J_O8H3RXm_LK",
        "outputId": "cf68219f-3447-4c57-b476-fee4e89d86c0",
        "colab": {
          "base_uri": "https://localhost:8080/",
          "height": 462
        }
      },
      "source": [
        "from keras.callbacks import EarlyStopping\n",
        "from keras.optimizers import SGD\n",
        "early_stopping_monitor = EarlyStopping(patience=10)    \n",
        "model6.compile(optimizer=SGD(lr=0.001,momentum=0.9), loss='binary_crossentropy',metrics=['accuracy',f1_score])\n",
        "history6=model6.fit(train_coronal ,trainAb_labels, validation_split=0.05,shuffle=True ,epochs=100, callbacks=[early_stopping_monitor], batch_size = 20)\n",
        "#model.fit(train_axial,trainMen_labels,epochs=50,batch_size=1000,validation_split=0.05,verbose=2,callbacks=[EarlyStopping(monitor='val_loss', patience=10, verbose=1, mode=\"min\")])"
      ],
      "execution_count": 0,
      "outputs": [
        {
          "output_type": "stream",
          "text": [
            "Train on 1073 samples, validate on 57 samples\n",
            "Epoch 1/100\n",
            "1073/1073 [==============================] - 37s 34ms/step - loss: 0.6674 - acc: 0.6235 - f1_score: nan - val_loss: 9.7377 - val_acc: 0.3684 - val_f1_score: 0.5295\n",
            "Epoch 2/100\n",
            "1073/1073 [==============================] - 10s 9ms/step - loss: 0.5590 - acc: 0.7083 - f1_score: nan - val_loss: 9.0356 - val_acc: 0.4211 - val_f1_score: 0.5399\n",
            "Epoch 3/100\n",
            "1073/1073 [==============================] - 10s 9ms/step - loss: 0.4388 - acc: 0.7978 - f1_score: 0.6581 - val_loss: 9.8092 - val_acc: 0.3509 - val_f1_score: 0.5133\n",
            "Epoch 4/100\n",
            "1073/1073 [==============================] - 10s 9ms/step - loss: 0.3393 - acc: 0.8555 - f1_score: 0.7640 - val_loss: 9.7892 - val_acc: 0.3860 - val_f1_score: 0.5514\n",
            "Epoch 5/100\n",
            "1073/1073 [==============================] - 9s 9ms/step - loss: 0.2018 - acc: 0.9348 - f1_score: 0.9044 - val_loss: 9.7892 - val_acc: 0.3860 - val_f1_score: 0.5514\n",
            "Epoch 6/100\n",
            "1073/1073 [==============================] - 9s 9ms/step - loss: 0.1076 - acc: 0.9758 - f1_score: 0.9599 - val_loss: 9.7892 - val_acc: 0.3860 - val_f1_score: 0.5514\n",
            "Epoch 7/100\n",
            "1073/1073 [==============================] - 9s 9ms/step - loss: 0.0602 - acc: 0.9879 - f1_score: 0.9845 - val_loss: 9.7892 - val_acc: 0.3860 - val_f1_score: 0.5514\n",
            "Epoch 8/100\n",
            "1073/1073 [==============================] - 9s 9ms/step - loss: 0.0344 - acc: 0.9944 - f1_score: 0.9892 - val_loss: 9.7892 - val_acc: 0.3860 - val_f1_score: 0.5514\n",
            "Epoch 9/100\n",
            "1073/1073 [==============================] - 9s 9ms/step - loss: 0.0387 - acc: 0.9897 - f1_score: 0.9863 - val_loss: 9.7892 - val_acc: 0.3860 - val_f1_score: 0.5514\n",
            "Epoch 10/100\n",
            "1073/1073 [==============================] - 9s 9ms/step - loss: 0.0322 - acc: 0.9935 - f1_score: 0.9905 - val_loss: 9.7892 - val_acc: 0.3860 - val_f1_score: 0.5514\n",
            "Epoch 11/100\n",
            "1073/1073 [==============================] - 9s 9ms/step - loss: 0.0218 - acc: 0.9963 - f1_score: 0.9944 - val_loss: 9.7892 - val_acc: 0.3860 - val_f1_score: 0.5514\n",
            "Epoch 12/100\n",
            "1073/1073 [==============================] - 9s 9ms/step - loss: 0.0258 - acc: 0.9935 - f1_score: 0.9901 - val_loss: 9.7892 - val_acc: 0.3860 - val_f1_score: 0.5514\n"
          ],
          "name": "stdout"
        }
      ]
    },
    {
      "cell_type": "code",
      "metadata": {
        "colab_type": "code",
        "id": "6Rn0iI-Rm_LQ",
        "outputId": "cad68ab6-7418-429d-c0bf-c9be7fb8372a",
        "colab": {
          "base_uri": "https://localhost:8080/",
          "height": 349
        }
      },
      "source": [
        "p = np.array(model6.predict(train_coronal))\n",
        "train_Ab_pred.append(p)\n",
        "p = np.array(model6.predict(test_coronal))\n",
        "test_Ab_pred.append(p)\n",
        "\n",
        "# Show simple version of performance                           \n",
        "score6 = model6.evaluate(test_coronal ,testAb_labels,verbose=1)       \n",
        "print('Test loss:',score6[0])\n",
        "print('Test accuracy:',score6[1])                          \n",
        "# Show loss curves                                          \n",
        "plt.figure()\n",
        "plt.grid()                                              \n",
        "                                                            \n",
        "plt.title('Training performance')                          \n",
        "plt.plot(history6.epoch, history6.history['loss'], label='train loss+error')  \n",
        "plt.plot(history6.epoch, history6.history['val_loss'], label='val_error')   \n",
        "plt.plot(history6.epoch, history6.history['f1_score'], label='f1_score')   \n",
        "plt.legend()"
      ],
      "execution_count": 0,
      "outputs": [
        {
          "output_type": "stream",
          "text": [
            "120/120 [==============================] - 0s 4ms/step\n",
            "Test loss: 3.321330364545206\n",
            "Test accuracy: 0.7916666666666666\n"
          ],
          "name": "stdout"
        },
        {
          "output_type": "execute_result",
          "data": {
            "text/plain": [
              "<matplotlib.legend.Legend at 0x7f5a82e037f0>"
            ]
          },
          "metadata": {
            "tags": []
          },
          "execution_count": 41
        },
        {
          "output_type": "display_data",
          "data": {
            "image/png": "[encoded data removed]",
            "text/plain": [
              "<Figure size 432x288 with 1 Axes>"
            ]
          },
          "metadata": {
            "tags": []
          }
        }
      ]
    },
    {
      "cell_type": "code",
      "metadata": {
        "id": "QPaXpEFeEHRK",
        "colab_type": "code",
        "colab": {}
      },
      "source": [
        "del train_coronal\n",
        "del test_coronal\n",
        "del coronal_dir\n",
        "del coronal_reloaded\n",
        "del coronalTest_reloaded\n",
        "del coronal_list\n",
        "del coronalTest_list\n",
        "\n",
        "del model4\n",
        "del model5\n",
        "del model6\n",
        "\n",
        "del base_model_Co_Men\n",
        "del base_model_Co_ACL\n",
        "del base_model_Co_Ab\n",
        "\n",
        "del p\n"
      ],
      "execution_count": 0,
      "outputs": []
    },
    {
      "cell_type": "markdown",
      "metadata": {
        "colab_type": "text",
        "id": "eh7IUVUIxzFM"
      },
      "source": [
        "##Sagittal"
      ]
    },
    {
      "cell_type": "markdown",
      "metadata": {
        "id": "f-j4PHNJEMRA",
        "colab_type": "text"
      },
      "source": [
        "###Reading train & test data"
      ]
    },
    {
      "cell_type": "code",
      "metadata": {
        "colab_type": "code",
        "outputId": "fe26d442-ed55-49cc-9cc7-5765309c8c28",
        "id": "Uqm-RJB1xzFQ",
        "colab": {
          "base_uri": "https://localhost:8080/",
          "height": 119
        }
      },
      "source": [
        "#reading sagittal directery in order\n",
        "sagittal_dir = os.listdir(\"/content/data/MRNet-v1.0/train/sagittal/\")\n",
        "sagittal_dir = [f.lower() for f in sagittal_dir]   # Convert to lower case\n",
        "c=sorted(sagittal_dir)\n",
        "sagittal_list=np.array(c)\n",
        "sagittal_reloaded=[]\n",
        "print(sagittal_list.shape)\n",
        "for j in range(1,1131):\n",
        "    file2= \"/content/data/MRNet-v1.0/train/sagittal/\"+sagittal_list[j]\n",
        "    sagittal_reloaded.append(np.load(file2,allow_pickle='false'))\n",
        "\n",
        "sagittal_reloaded=np.array(sagittal_reloaded)\n",
        "print(sagittal_reloaded.shape)\n",
        "train_sagittal=[]\n",
        " \n",
        "for j in range(len(sagittal_reloaded)):\n",
        "    mid2=math.floor((sagittal_reloaded[j].shape[0])/2)\n",
        "    train_sagittal.append([])\n",
        "    #genereting training set for sagittal   \n",
        "    for n in range(mid2-1,mid2+2):\n",
        "         train_sagittal[j].append(sagittal_reloaded[j][n])\n",
        "\n",
        "train_sagittal=np.array(train_sagittal)\n",
        "train_sagittal=np.reshape(train_sagittal,(1130,256,256,3))\n",
        "print(train_sagittal.shape)\n",
        "\n",
        "\n",
        "#Test\n",
        "#reading sagittal directery in order\n",
        "sagittal_dir = os.listdir(\"/content/data/MRNet-v1.0/valid/sagittal/\")\n",
        "sagittal_dir = [f.lower() for f in sagittal_dir]   # Convert to lower case\n",
        "c=sorted(sagittal_dir)\n",
        "sagittalTest_list=np.array(c)\n",
        "sagittalTest_reloaded=[]\n",
        "print(sagittalTest_list.shape)\n",
        "for j in range(0,120):\n",
        "    file2= \"/content/data/MRNet-v1.0/valid/sagittal/\"+sagittalTest_list[j]\n",
        "    sagittalTest_reloaded.append(np.load(file2,allow_pickle='false'))\n",
        "\n",
        "sagittalTest_reloaded=np.array(sagittalTest_reloaded)\n",
        "print(sagittalTest_reloaded.shape)\n",
        "test_sagittal=[]\n",
        " \n",
        "for j in range(len(sagittalTest_reloaded)):\n",
        "    mid2=math.floor((sagittalTest_reloaded[j].shape[0])/2)\n",
        "    test_sagittal.append([])\n",
        "    #genereting training set for sagittal   \n",
        "    for n in range(mid2-1,mid2+2):\n",
        "         test_sagittal[j].append(sagittalTest_reloaded[j][n])\n",
        "\n",
        "test_sagittal=np.array(test_sagittal)\n",
        "test_sagittal=np.reshape(test_sagittal,(120,256,256,3))\n",
        "print(test_sagittal.shape)\n",
        "\n"
      ],
      "execution_count": 0,
      "outputs": [
        {
          "output_type": "stream",
          "text": [
            "(1131,)\n",
            "(1130,)\n",
            "(1130, 256, 256, 3)\n",
            "(120,)\n",
            "(120,)\n",
            "(120, 256, 256, 3)\n"
          ],
          "name": "stdout"
        }
      ]
    },
    {
      "cell_type": "markdown",
      "metadata": {
        "colab_type": "text",
        "id": "ZhRgNysBy9HJ"
      },
      "source": [
        "###InceptionV3 Model for Sagittal Mensical"
      ]
    },
    {
      "cell_type": "code",
      "metadata": {
        "colab_type": "code",
        "id": "2c_Dtv7Jy9HP",
        "colab": {}
      },
      "source": [
        "# this could also be the output a different Keras model or layer\n",
        "input_tensor = Input(shape=(256, 256,3))  # this assumes K.image_data_format() == 'channels_last'\n",
        "base_model_Sa_Men = InceptionV3(input_tensor=input_tensor, weights='imagenet', include_top=False)"
      ],
      "execution_count": 0,
      "outputs": []
    },
    {
      "cell_type": "code",
      "metadata": {
        "colab_type": "code",
        "id": "Cde65r48y9Hd",
        "colab": {}
      },
      "source": [
        "x = base_model_Sa_Men.output\n",
        "x = GlobalAveragePooling2D()(x)\n",
        "# let's add a fully-connected layer\n",
        "x=Dropout(0.2)(x)\n",
        "x = Dense(1024, activation='relu')(x)\n",
        "x=Dropout(0.2)(x)\n",
        "x=Dropout(0.2)(x)\n",
        "predictions = Dense(1, activation='sigmoid')(x)\n",
        "#base_model.output=x\n",
        "# this is the model we will train\n",
        "model7 = Model(inputs=base_model_Sa_Men.input,outputs=predictions)"
      ],
      "execution_count": 0,
      "outputs": []
    },
    {
      "cell_type": "code",
      "metadata": {
        "colab_type": "code",
        "id": "1fBMXXA4y9Hj",
        "colab": {}
      },
      "source": [
        "for layer in model7.layers[:79]:\n",
        "   layer.trainable = False\n",
        "for layer in model7.layers[79:]:\n",
        "   layer.trainable = True"
      ],
      "execution_count": 0,
      "outputs": []
    },
    {
      "cell_type": "code",
      "metadata": {
        "colab_type": "code",
        "outputId": "c0cba68f-eeb7-49f0-8bbb-be2925b1b7cb",
        "id": "vzHwBUqyy9Hm",
        "colab": {
          "base_uri": "https://localhost:8080/",
          "height": 428
        }
      },
      "source": [
        "from keras.callbacks import EarlyStopping\n",
        "from keras.optimizers import SGD\n",
        "early_stopping_monitor = EarlyStopping(patience=10)    \n",
        "model7.compile(optimizer=SGD(lr=0.001,momentum=0.9), loss='binary_crossentropy',metrics=['accuracy',f1_score])\n",
        "history7=model7.fit(train_sagittal ,trainMen_labels, validation_split=0.05,shuffle=True ,epochs=100, callbacks=[early_stopping_monitor], batch_size = 20)\n",
        "#model.fit(train_axial,trainMen_labels,epochs=50,batch_size=1000,validation_split=0.05,verbose=2,callbacks=[EarlyStopping(monitor='val_loss', patience=10, verbose=1, mode=\"min\")])"
      ],
      "execution_count": 0,
      "outputs": [
        {
          "output_type": "stream",
          "text": [
            "Train on 1073 samples, validate on 57 samples\n",
            "Epoch 1/100\n",
            "1073/1073 [==============================] - 42s 39ms/step - loss: 0.6793 - acc: 0.6170 - f1_score: nan - val_loss: 6.2210 - val_acc: 0.6140 - val_f1_score: nan\n",
            "Epoch 2/100\n",
            "1073/1073 [==============================] - 10s 9ms/step - loss: 0.5574 - acc: 0.6952 - f1_score: nan - val_loss: 6.2210 - val_acc: 0.6140 - val_f1_score: nan\n",
            "Epoch 3/100\n",
            "1073/1073 [==============================] - 10s 9ms/step - loss: 0.4476 - acc: 0.7940 - f1_score: 0.6580 - val_loss: 6.2210 - val_acc: 0.6140 - val_f1_score: nan\n",
            "Epoch 4/100\n",
            "1073/1073 [==============================] - 10s 9ms/step - loss: 0.3043 - acc: 0.8816 - f1_score: 0.8167 - val_loss: 6.2210 - val_acc: 0.6140 - val_f1_score: nan\n",
            "Epoch 5/100\n",
            "1073/1073 [==============================] - 10s 9ms/step - loss: 0.1644 - acc: 0.9497 - f1_score: 0.9235 - val_loss: 6.2210 - val_acc: 0.6140 - val_f1_score: nan\n",
            "Epoch 6/100\n",
            "1073/1073 [==============================] - 9s 9ms/step - loss: 0.0731 - acc: 0.9870 - f1_score: 0.9799 - val_loss: 6.2210 - val_acc: 0.6140 - val_f1_score: nan\n",
            "Epoch 7/100\n",
            "1073/1073 [==============================] - 9s 9ms/step - loss: 0.0456 - acc: 0.9888 - f1_score: 0.9799 - val_loss: 6.2210 - val_acc: 0.6140 - val_f1_score: nan\n",
            "Epoch 8/100\n",
            "1073/1073 [==============================] - 9s 9ms/step - loss: 0.0393 - acc: 0.9897 - f1_score: 0.9830 - val_loss: 6.2210 - val_acc: 0.6140 - val_f1_score: nan\n",
            "Epoch 9/100\n",
            "1073/1073 [==============================] - 9s 9ms/step - loss: 0.0538 - acc: 0.9832 - f1_score: 0.9739 - val_loss: 6.2210 - val_acc: 0.6140 - val_f1_score: nan\n",
            "Epoch 10/100\n",
            "1073/1073 [==============================] - 9s 9ms/step - loss: 0.0539 - acc: 0.9851 - f1_score: 0.9722 - val_loss: 6.2210 - val_acc: 0.6140 - val_f1_score: nan\n",
            "Epoch 11/100\n",
            "1073/1073 [==============================] - 9s 9ms/step - loss: 0.0295 - acc: 0.9897 - f1_score: 0.9842 - val_loss: 6.2210 - val_acc: 0.6140 - val_f1_score: nan\n"
          ],
          "name": "stdout"
        }
      ]
    },
    {
      "cell_type": "code",
      "metadata": {
        "colab_type": "code",
        "outputId": "681fa628-85a8-479d-9ba3-8e8bedf73667",
        "id": "B_Ql5qSTy9Hp",
        "colab": {
          "base_uri": "https://localhost:8080/",
          "height": 349
        }
      },
      "source": [
        "p = np.array(model7.predict(train_sagittal))\n",
        "train_Men_pred.append(p)\n",
        "p = np.array(model7.predict(test_sagittal))\n",
        "test_Men_pred.append(p)\n",
        "\n",
        "# Show simple version of performance                           \n",
        "score7 = model7.evaluate(test_sagittal ,testMen_labels,verbose=1)       \n",
        "print('Test loss:',score7[0])\n",
        "print('Test accuracy:',score7[1])                          \n",
        "# Show loss curves                                          \n",
        "plt.figure()\n",
        "plt.grid()                                              \n",
        "                                                            \n",
        "plt.title('Training performance')                          \n",
        "plt.plot(history7.epoch, history7.history['loss'], label='train loss+error')  \n",
        "plt.plot(history7.epoch, history7.history['val_loss'], label='val_error')\n",
        "plt.plot(history7.epoch, history7.history['f1_score'], label='f1_score')\n",
        "plt.legend()"
      ],
      "execution_count": 0,
      "outputs": [
        {
          "output_type": "stream",
          "text": [
            "120/120 [==============================] - 0s 4ms/step\n",
            "Test loss: 6.9845082867578165\n",
            "Test accuracy: 0.5666666666666667\n"
          ],
          "name": "stdout"
        },
        {
          "output_type": "execute_result",
          "data": {
            "text/plain": [
              "<matplotlib.legend.Legend at 0x7f5a79fcb748>"
            ]
          },
          "metadata": {
            "tags": []
          },
          "execution_count": 48
        },
        {
          "output_type": "display_data",
          "data": {
            "image/png": "[encoded data removed]",
            "text/plain": [
              "<Figure size 432x288 with 1 Axes>"
            ]
          },
          "metadata": {
            "tags": []
          }
        }
      ]
    },
    {
      "cell_type": "markdown",
      "metadata": {
        "colab_type": "text",
        "id": "JWF36DXt0lj1"
      },
      "source": [
        "###InceptionV3 Model for Sagittal ACL"
      ]
    },
    {
      "cell_type": "code",
      "metadata": {
        "colab_type": "code",
        "id": "u6ItTeBD0lj4",
        "colab": {}
      },
      "source": [
        "# this could also be the output a different Keras model or layer\n",
        "input_tensor = Input(shape=(256, 256,3))  # this assumes K.image_data_format() == 'channels_last'\n",
        "base_model_Sa_ACL = InceptionV3(input_tensor=input_tensor, weights='imagenet', include_top=False)"
      ],
      "execution_count": 0,
      "outputs": []
    },
    {
      "cell_type": "code",
      "metadata": {
        "colab_type": "code",
        "id": "2Xe_fFX40lkE",
        "colab": {}
      },
      "source": [
        "x = base_model_Sa_ACL.output\n",
        "x = GlobalAveragePooling2D()(x)\n",
        "# let's add a fully-connected layer\n",
        "x=Dropout(0.2)(x)\n",
        "x = Dense(1024, activation='relu')(x)\n",
        "x=Dropout(0.2)(x)\n",
        "x=Dropout(0.2)(x)\n",
        "predictions = Dense(1, activation='sigmoid')(x)\n",
        "#base_model.output=x\n",
        "# this is the model we will train\n",
        "model8 = Model(inputs=base_model_Sa_ACL.input,outputs=predictions)"
      ],
      "execution_count": 0,
      "outputs": []
    },
    {
      "cell_type": "code",
      "metadata": {
        "colab_type": "code",
        "id": "nrvR0Zko0lkK",
        "colab": {}
      },
      "source": [
        "for layer in model8.layers[:79]:\n",
        "   layer.trainable = False\n",
        "for layer in model8.layers[79:]:\n",
        "   layer.trainable = True"
      ],
      "execution_count": 0,
      "outputs": []
    },
    {
      "cell_type": "code",
      "metadata": {
        "colab_type": "code",
        "outputId": "d81db2e7-f150-4bec-afc9-f1ecfcc8c1ae",
        "id": "7lgg-EjL0lkP",
        "colab": {
          "base_uri": "https://localhost:8080/",
          "height": 258
        }
      },
      "source": [
        "from keras.callbacks import EarlyStopping\n",
        "from keras.optimizers import SGD\n",
        "early_stopping_monitor = EarlyStopping(patience=5)    \n",
        "model8.compile(optimizer=SGD(lr=0.001,momentum=0.9), loss='binary_crossentropy',metrics=['accuracy',f1_score])\n",
        "history8=model8.fit(train_sagittal ,trainACL_labels, validation_split=0.05,shuffle=True ,epochs=100, callbacks=[early_stopping_monitor], batch_size = 20)\n",
        "#model.fit(train_axial,trainMen_labels,epochs=50,batch_size=1000,validation_split=0.05,verbose=2,callbacks=[EarlyStopping(monitor='val_loss', patience=10, verbose=1, mode=\"min\")])"
      ],
      "execution_count": 0,
      "outputs": [
        {
          "output_type": "stream",
          "text": [
            "Train on 1073 samples, validate on 57 samples\n",
            "Epoch 1/100\n",
            "1073/1073 [==============================] - 48s 45ms/step - loss: 0.4983 - acc: 0.8052 - f1_score: nan - val_loss: 2.5450 - val_acc: 0.8421 - val_f1_score: nan\n",
            "Epoch 2/100\n",
            "1073/1073 [==============================] - 10s 9ms/step - loss: 0.3940 - acc: 0.8192 - f1_score: nan - val_loss: 2.5450 - val_acc: 0.8421 - val_f1_score: nan\n",
            "Epoch 3/100\n",
            "1073/1073 [==============================] - 10s 9ms/step - loss: 0.2960 - acc: 0.8527 - f1_score: nan - val_loss: 2.5450 - val_acc: 0.8421 - val_f1_score: nan\n",
            "Epoch 4/100\n",
            "1073/1073 [==============================] - 10s 9ms/step - loss: 0.1942 - acc: 0.9199 - f1_score: nan - val_loss: 2.5453 - val_acc: 0.8421 - val_f1_score: nan\n",
            "Epoch 5/100\n",
            "1073/1073 [==============================] - 9s 9ms/step - loss: 0.1097 - acc: 0.9795 - f1_score: 0.9426 - val_loss: 2.5788 - val_acc: 0.8246 - val_f1_score: nan\n",
            "Epoch 6/100\n",
            "1073/1073 [==============================] - 9s 9ms/step - loss: 0.0652 - acc: 0.9897 - f1_score: 0.9687 - val_loss: 2.7900 - val_acc: 0.7895 - val_f1_score: nan\n"
          ],
          "name": "stdout"
        }
      ]
    },
    {
      "cell_type": "code",
      "metadata": {
        "colab_type": "code",
        "outputId": "e552f9c9-394a-494a-b46b-bb40f9838cac",
        "id": "4GxoI6J90lkY",
        "colab": {
          "base_uri": "https://localhost:8080/",
          "height": 349
        }
      },
      "source": [
        "p = np.array(model8.predict(train_sagittal))\n",
        "train_ACL_pred.append(p)\n",
        "p = np.array(model8.predict(test_sagittal))\n",
        "test_ACL_pred.append(p)\n",
        "\n",
        "# Show simple version of performance                           \n",
        "score8 = model8.evaluate(test_sagittal ,testACL_labels,verbose=1)       \n",
        "print('Test loss:',score8[0])\n",
        "print('Test accuracy:',score8[1])                          \n",
        "# Show loss curves                                          \n",
        "plt.figure()\n",
        "plt.grid()                                              \n",
        "                                                            \n",
        "plt.title('Training performance')                          \n",
        "plt.plot(history8.epoch, history8.history['loss'], label='train loss+error')  \n",
        "plt.plot(history8.epoch, history8.history['val_loss'], label='val_error')\n",
        "plt.plot(history8.epoch, history8.history['f1_score'], label='f1_score')\n",
        "plt.legend()"
      ],
      "execution_count": 0,
      "outputs": [
        {
          "output_type": "stream",
          "text": [
            "120/120 [==============================] - 0s 4ms/step\n",
            "Test loss: 7.515199247996012\n",
            "Test accuracy: 0.525\n"
          ],
          "name": "stdout"
        },
        {
          "output_type": "execute_result",
          "data": {
            "text/plain": [
              "<matplotlib.legend.Legend at 0x7f5a71140828>"
            ]
          },
          "metadata": {
            "tags": []
          },
          "execution_count": 53
        },
        {
          "output_type": "display_data",
          "data": {
            "image/png": "[encoded data removed]",
            "text/plain": [
              "<Figure size 432x288 with 1 Axes>"
            ]
          },
          "metadata": {
            "tags": []
          }
        }
      ]
    },
    {
      "cell_type": "markdown",
      "metadata": {
        "colab_type": "text",
        "id": "QntZqwr22Qqu"
      },
      "source": [
        "###InceptionV3 Model for Sagittal Abnormal"
      ]
    },
    {
      "cell_type": "code",
      "metadata": {
        "colab_type": "code",
        "id": "W6WQFKWN2Qqx",
        "colab": {}
      },
      "source": [
        "# this could also be the output a different Keras model or layer\n",
        "input_tensor = Input(shape=(256, 256,3))  # this assumes K.image_data_format() == 'channels_last'\n",
        "base_model_Sa_Ab = InceptionV3(input_tensor=input_tensor, weights='imagenet', include_top=False)"
      ],
      "execution_count": 0,
      "outputs": []
    },
    {
      "cell_type": "code",
      "metadata": {
        "colab_type": "code",
        "id": "0-M3wkWd2Qq5",
        "colab": {}
      },
      "source": [
        "x = base_model_Sa_Ab.output\n",
        "x = GlobalAveragePooling2D()(x)\n",
        "# let's add a fully-connected layer\n",
        "x=Dropout(0.2)(x)\n",
        "x = Dense(1024, activation='relu')(x)\n",
        "x=Dropout(0.2)(x)\n",
        "x=Dropout(0.2)(x)\n",
        "predictions = Dense(1, activation='sigmoid')(x)\n",
        "#base_model.output=x\n",
        "# this is the model we will train\n",
        "model9 = Model(inputs=base_model_Sa_Ab.input,outputs=predictions)"
      ],
      "execution_count": 0,
      "outputs": []
    },
    {
      "cell_type": "code",
      "metadata": {
        "colab_type": "code",
        "id": "l-F3Exud2Qq_",
        "colab": {}
      },
      "source": [
        "for layer in model9.layers[:79]:\n",
        "   layer.trainable = False\n",
        "for layer in model9.layers[79:]:\n",
        "   layer.trainable = True"
      ],
      "execution_count": 0,
      "outputs": []
    },
    {
      "cell_type": "code",
      "metadata": {
        "colab_type": "code",
        "outputId": "8cfcf519-6cb0-48a0-c1b9-f83cf090732b",
        "id": "WAMH3it52QrK",
        "colab": {
          "base_uri": "https://localhost:8080/",
          "height": 496
        }
      },
      "source": [
        "from keras.callbacks import EarlyStopping\n",
        "from keras.optimizers import SGD\n",
        "early_stopping_monitor = EarlyStopping(patience=10)    \n",
        "model9.compile(optimizer=SGD(lr=0.001,momentum=0.9), loss='binary_crossentropy',metrics=['accuracy',f1_score])\n",
        "history9=model9.fit(train_sagittal ,trainAb_labels, validation_split=0.05,shuffle=True ,epochs=100, callbacks=[early_stopping_monitor], batch_size = 20)\n",
        "#model.fit(train_axial,trainMen_labels,epochs=50,batch_size=1000,validation_split=0.05,verbose=2,callbacks=[EarlyStopping(monitor='val_loss', patience=10, verbose=1, mode=\"min\")])"
      ],
      "execution_count": 0,
      "outputs": [
        {
          "output_type": "stream",
          "text": [
            "Train on 1073 samples, validate on 57 samples\n",
            "Epoch 1/100\n",
            "1073/1073 [==============================] - 55s 51ms/step - loss: 0.6702 - acc: 0.6226 - f1_score: nan - val_loss: 6.0757 - val_acc: 0.6140 - val_f1_score: nan\n",
            "Epoch 2/100\n",
            "1073/1073 [==============================] - 10s 9ms/step - loss: 0.5484 - acc: 0.7148 - f1_score: nan - val_loss: 6.0940 - val_acc: 0.6140 - val_f1_score: nan\n",
            "Epoch 3/100\n",
            "1073/1073 [==============================] - 10s 9ms/step - loss: 0.4463 - acc: 0.7940 - f1_score: 0.6599 - val_loss: 5.5596 - val_acc: 0.6316 - val_f1_score: nan\n",
            "Epoch 4/100\n",
            "1073/1073 [==============================] - 10s 9ms/step - loss: 0.3068 - acc: 0.8910 - f1_score: 0.8290 - val_loss: 6.8546 - val_acc: 0.4561 - val_f1_score: 0.3825\n",
            "Epoch 5/100\n",
            "1073/1073 [==============================] - 10s 9ms/step - loss: 0.1808 - acc: 0.9534 - f1_score: 0.9281 - val_loss: 7.8137 - val_acc: 0.4386 - val_f1_score: 0.5294\n",
            "Epoch 6/100\n",
            "1073/1073 [==============================] - 9s 9ms/step - loss: 0.0918 - acc: 0.9814 - f1_score: 0.9704 - val_loss: 5.7551 - val_acc: 0.5263 - val_f1_score: 0.3383\n",
            "Epoch 7/100\n",
            "1073/1073 [==============================] - 9s 9ms/step - loss: 0.0484 - acc: 0.9907 - f1_score: 0.9833 - val_loss: 6.0503 - val_acc: 0.5965 - val_f1_score: nan\n",
            "Epoch 8/100\n",
            "1073/1073 [==============================] - 9s 9ms/step - loss: 0.0286 - acc: 0.9944 - f1_score: 0.9917 - val_loss: 5.8882 - val_acc: 0.6316 - val_f1_score: nan\n",
            "Epoch 9/100\n",
            "1073/1073 [==============================] - 9s 9ms/step - loss: 0.0308 - acc: 0.9935 - f1_score: 0.9875 - val_loss: 6.0823 - val_acc: 0.6140 - val_f1_score: nan\n",
            "Epoch 10/100\n",
            "1073/1073 [==============================] - 10s 9ms/step - loss: 0.0267 - acc: 0.9916 - f1_score: 0.9842 - val_loss: 6.2210 - val_acc: 0.6140 - val_f1_score: nan\n",
            "Epoch 11/100\n",
            "1073/1073 [==============================] - 10s 9ms/step - loss: 0.0296 - acc: 0.9907 - f1_score: 0.9830 - val_loss: 6.2108 - val_acc: 0.6140 - val_f1_score: nan\n",
            "Epoch 12/100\n",
            "1073/1073 [==============================] - 10s 9ms/step - loss: 0.0261 - acc: 0.9925 - f1_score: 0.9808 - val_loss: 6.2210 - val_acc: 0.6140 - val_f1_score: nan\n",
            "Epoch 13/100\n",
            "1073/1073 [==============================] - 10s 9ms/step - loss: 0.0189 - acc: 0.9953 - f1_score: 0.9943 - val_loss: 6.1446 - val_acc: 0.6140 - val_f1_score: nan\n"
          ],
          "name": "stdout"
        }
      ]
    },
    {
      "cell_type": "code",
      "metadata": {
        "colab_type": "code",
        "outputId": "032ef6cd-2228-4186-fd72-b492118821b0",
        "id": "bb_cHRLb2QrW",
        "colab": {
          "base_uri": "https://localhost:8080/",
          "height": 349
        }
      },
      "source": [
        "p = np.array(model9.predict(train_sagittal))\n",
        "train_Ab_pred.append(p)\n",
        "p = np.array(model9.predict(test_sagittal))\n",
        "test_Ab_pred.append(p)\n",
        "\n",
        "# Show simple version of performance                           \n",
        "score9 = model9.evaluate(test_sagittal ,testAb_labels,verbose=1)       \n",
        "print('Test loss:',score9[0])\n",
        "print('Test accuracy:',score9[1])                          \n",
        "# Show loss curves                                          \n",
        "plt.figure()\n",
        "plt.grid()                                              \n",
        "                                                            \n",
        "plt.title('Training performance')                          \n",
        "plt.plot(history9.epoch, history9.history['loss'], label='train loss+error')  \n",
        "plt.plot(history9.epoch, history9.history['val_loss'], label='val_error')\n",
        "plt.plot(history9.epoch, history9.history['f1_score'], label='f1_score')\n",
        "plt.legend()"
      ],
      "execution_count": 0,
      "outputs": [
        {
          "output_type": "stream",
          "text": [
            "120/120 [==============================] - 0s 4ms/step\n",
            "Test loss: 10.982704162597656\n",
            "Test accuracy: 0.3083333323399226\n"
          ],
          "name": "stdout"
        },
        {
          "output_type": "execute_result",
          "data": {
            "text/plain": [
              "<matplotlib.legend.Legend at 0x7f5a68309cf8>"
            ]
          },
          "metadata": {
            "tags": []
          },
          "execution_count": 58
        },
        {
          "output_type": "display_data",
          "data": {
            "image/png": "[encoded data removed]",
            "text/plain": [
              "<Figure size 432x288 with 1 Axes>"
            ]
          },
          "metadata": {
            "tags": []
          }
        }
      ]
    },
    {
      "cell_type": "code",
      "metadata": {
        "colab_type": "code",
        "id": "TlbunAuE2Qre",
        "colab": {}
      },
      "source": [
        "del train_sagittal\n",
        "del test_sagittal\n",
        "del sagittal_dir\n",
        "del sagittal_reloaded\n",
        "del sagittalTest_reloaded\n",
        "del sagittal_list\n",
        "del sagittalTest_list\n",
        "\n",
        "del model7\n",
        "del model8\n",
        "del model9\n",
        "\n",
        "del base_model_Sa_Men\n",
        "del base_model_Sa_ACL\n",
        "del base_model_Sa_Ab\n",
        "\n",
        "del p"
      ],
      "execution_count": 0,
      "outputs": []
    },
    {
      "cell_type": "markdown",
      "metadata": {
        "id": "MPh8q5IqvvS8",
        "colab_type": "text"
      },
      "source": [
        ""
      ]
    },
    {
      "cell_type": "markdown",
      "metadata": {
        "id": "p8rTxtG6vzbk",
        "colab_type": "text"
      },
      "source": [
        "##Ensembling"
      ]
    },
    {
      "cell_type": "markdown",
      "metadata": {
        "id": "D2thlG5_12K_",
        "colab_type": "text"
      },
      "source": [
        "###Meniscal"
      ]
    },
    {
      "cell_type": "code",
      "metadata": {
        "id": "woSckwh419pD",
        "colab_type": "code",
        "outputId": "cd0ff328-717f-4d33-8014-0fc55f92325d",
        "colab": {
          "base_uri": "https://localhost:8080/",
          "height": 170
        }
      },
      "source": [
        "train_Men_pred = np.array(train_Men_pred)\n",
        "print(train_Men_pred.shape)\n",
        "test_Men_pred = np.array(test_Men_pred)\n",
        "print(test_Men_pred.shape)\n",
        "\n",
        "train_Men_pred = train_Men_pred.reshape((1130,3))\n",
        "test_Men_pred = test_Men_pred.reshape((120,3))\n",
        "print(train_Men_pred)"
      ],
      "execution_count": 0,
      "outputs": [
        {
          "output_type": "stream",
          "text": [
            "(3, 1130, 1)\n",
            "(3, 120, 1)\n",
            "[[0. 0. 0.]\n",
            " [0. 0. 0.]\n",
            " [0. 0. 0.]\n",
            " ...\n",
            " [0. 0. 0.]\n",
            " [0. 0. 0.]\n",
            " [0. 0. 0.]]\n"
          ],
          "name": "stdout"
        }
      ]
    },
    {
      "cell_type": "code",
      "metadata": {
        "id": "4LsT7P9j31am",
        "colab_type": "code",
        "outputId": "9a9427fc-fbfd-43b2-95d9-c27cf3bfd722",
        "colab": {
          "base_uri": "https://localhost:8080/",
          "height": 1717
        }
      },
      "source": [
        "menModel = Sequential()\n",
        "menModel.add(Dense(1, activation='sigmoid', input_dim=3))\n",
        "\n",
        "menModel.compile(loss='binary_crossentropy', optimizer='adam', metrics=['acc',f1_score])\n",
        "h = menModel.fit(train_Men_pred, trainMen_labels, batch_size=32, epochs=50, verbose=1)"
      ],
      "execution_count": 0,
      "outputs": [
        {
          "output_type": "stream",
          "text": [
            "Epoch 1/50\n",
            "1130/1130 [==============================] - 40s 35ms/step - loss: 0.6961 - acc: 0.5850 - f1_score: nan\n",
            "Epoch 2/50\n",
            "1130/1130 [==============================] - 0s 236us/step - loss: 0.6884 - acc: 0.6257 - f1_score: nan\n",
            "Epoch 3/50\n",
            "1130/1130 [==============================] - 0s 241us/step - loss: 0.6821 - acc: 0.6434 - f1_score: nan\n",
            "Epoch 4/50\n",
            "1130/1130 [==============================] - 0s 234us/step - loss: 0.6769 - acc: 0.6460 - f1_score: nan\n",
            "Epoch 5/50\n",
            "1130/1130 [==============================] - 0s 237us/step - loss: 0.6729 - acc: 0.6460 - f1_score: nan\n",
            "Epoch 6/50\n",
            "1130/1130 [==============================] - 0s 233us/step - loss: 0.6696 - acc: 0.6442 - f1_score: nan\n",
            "Epoch 7/50\n",
            "1130/1130 [==============================] - 0s 246us/step - loss: 0.6669 - acc: 0.6434 - f1_score: nan\n",
            "Epoch 8/50\n",
            "1130/1130 [==============================] - 0s 238us/step - loss: 0.6645 - acc: 0.6434 - f1_score: nan\n",
            "Epoch 9/50\n",
            "1130/1130 [==============================] - 0s 234us/step - loss: 0.6626 - acc: 0.6434 - f1_score: nan\n",
            "Epoch 10/50\n",
            "1130/1130 [==============================] - 0s 245us/step - loss: 0.6610 - acc: 0.6434 - f1_score: nan\n",
            "Epoch 11/50\n",
            "1130/1130 [==============================] - 0s 232us/step - loss: 0.6596 - acc: 0.6487 - f1_score: nan\n",
            "Epoch 12/50\n",
            "1130/1130 [==============================] - 0s 238us/step - loss: 0.6585 - acc: 0.6487 - f1_score: nan\n",
            "Epoch 13/50\n",
            "1130/1130 [==============================] - 0s 232us/step - loss: 0.6576 - acc: 0.6487 - f1_score: nan\n",
            "Epoch 14/50\n",
            "1130/1130 [==============================] - 0s 240us/step - loss: 0.6566 - acc: 0.6487 - f1_score: nan\n",
            "Epoch 15/50\n",
            "1130/1130 [==============================] - 0s 230us/step - loss: 0.6559 - acc: 0.6487 - f1_score: nan\n",
            "Epoch 16/50\n",
            "1130/1130 [==============================] - 0s 249us/step - loss: 0.6552 - acc: 0.6487 - f1_score: nan\n",
            "Epoch 17/50\n",
            "1130/1130 [==============================] - 0s 236us/step - loss: 0.6546 - acc: 0.6487 - f1_score: nan\n",
            "Epoch 18/50\n",
            "1130/1130 [==============================] - 0s 251us/step - loss: 0.6539 - acc: 0.6487 - f1_score: nan\n",
            "Epoch 19/50\n",
            "1130/1130 [==============================] - 0s 237us/step - loss: 0.6534 - acc: 0.6487 - f1_score: nan\n",
            "Epoch 20/50\n",
            "1130/1130 [==============================] - 0s 236us/step - loss: 0.6530 - acc: 0.6487 - f1_score: nan\n",
            "Epoch 21/50\n",
            "1130/1130 [==============================] - 0s 237us/step - loss: 0.6526 - acc: 0.6487 - f1_score: nan\n",
            "Epoch 22/50\n",
            "1130/1130 [==============================] - 0s 240us/step - loss: 0.6522 - acc: 0.6487 - f1_score: nan\n",
            "Epoch 23/50\n",
            "1130/1130 [==============================] - 0s 236us/step - loss: 0.6518 - acc: 0.6487 - f1_score: nan\n",
            "Epoch 24/50\n",
            "1130/1130 [==============================] - 0s 233us/step - loss: 0.6515 - acc: 0.6487 - f1_score: nan\n",
            "Epoch 25/50\n",
            "1130/1130 [==============================] - 0s 239us/step - loss: 0.6514 - acc: 0.6487 - f1_score: nan\n",
            "Epoch 26/50\n",
            "1130/1130 [==============================] - 0s 234us/step - loss: 0.6509 - acc: 0.6487 - f1_score: nan\n",
            "Epoch 27/50\n",
            "1130/1130 [==============================] - 0s 231us/step - loss: 0.6508 - acc: 0.6487 - f1_score: nan\n",
            "Epoch 28/50\n",
            "1130/1130 [==============================] - 0s 232us/step - loss: 0.6505 - acc: 0.6487 - f1_score: nan\n",
            "Epoch 29/50\n",
            "1130/1130 [==============================] - 0s 244us/step - loss: 0.6503 - acc: 0.6487 - f1_score: nan\n",
            "Epoch 30/50\n",
            "1130/1130 [==============================] - 0s 239us/step - loss: 0.6502 - acc: 0.6487 - f1_score: nan\n",
            "Epoch 31/50\n",
            "1130/1130 [==============================] - 0s 235us/step - loss: 0.6498 - acc: 0.6487 - f1_score: nan\n",
            "Epoch 32/50\n",
            "1130/1130 [==============================] - 0s 233us/step - loss: 0.6497 - acc: 0.6487 - f1_score: nan\n",
            "Epoch 33/50\n",
            "1130/1130 [==============================] - 0s 243us/step - loss: 0.6497 - acc: 0.6487 - f1_score: nan\n",
            "Epoch 34/50\n",
            "1130/1130 [==============================] - 0s 232us/step - loss: 0.6494 - acc: 0.6487 - f1_score: nan\n",
            "Epoch 35/50\n",
            "1130/1130 [==============================] - 0s 231us/step - loss: 0.6493 - acc: 0.6487 - f1_score: nan\n",
            "Epoch 36/50\n",
            "1130/1130 [==============================] - 0s 234us/step - loss: 0.6492 - acc: 0.6487 - f1_score: nan\n",
            "Epoch 37/50\n",
            "1130/1130 [==============================] - 0s 246us/step - loss: 0.6491 - acc: 0.6487 - f1_score: nan\n",
            "Epoch 38/50\n",
            "1130/1130 [==============================] - 0s 235us/step - loss: 0.6491 - acc: 0.6487 - f1_score: nan\n",
            "Epoch 39/50\n",
            "1130/1130 [==============================] - 0s 233us/step - loss: 0.6489 - acc: 0.6487 - f1_score: nan\n",
            "Epoch 40/50\n",
            "1130/1130 [==============================] - 0s 231us/step - loss: 0.6490 - acc: 0.6487 - f1_score: nan\n",
            "Epoch 41/50\n",
            "1130/1130 [==============================] - 0s 243us/step - loss: 0.6488 - acc: 0.6487 - f1_score: nan\n",
            "Epoch 42/50\n",
            "1130/1130 [==============================] - 0s 241us/step - loss: 0.6487 - acc: 0.6487 - f1_score: nan\n",
            "Epoch 43/50\n",
            "1130/1130 [==============================] - 0s 233us/step - loss: 0.6487 - acc: 0.6487 - f1_score: nan\n",
            "Epoch 44/50\n",
            "1130/1130 [==============================] - 0s 231us/step - loss: 0.6486 - acc: 0.6487 - f1_score: nan\n",
            "Epoch 45/50\n",
            "1130/1130 [==============================] - 0s 239us/step - loss: 0.6486 - acc: 0.6487 - f1_score: nan\n",
            "Epoch 46/50\n",
            "1130/1130 [==============================] - 0s 234us/step - loss: 0.6485 - acc: 0.6487 - f1_score: nan\n",
            "Epoch 47/50\n",
            "1130/1130 [==============================] - 0s 233us/step - loss: 0.6485 - acc: 0.6487 - f1_score: nan\n",
            "Epoch 48/50\n",
            "1130/1130 [==============================] - 0s 240us/step - loss: 0.6484 - acc: 0.6487 - f1_score: nan\n",
            "Epoch 49/50\n",
            "1130/1130 [==============================] - 0s 238us/step - loss: 0.6483 - acc: 0.6487 - f1_score: nan\n",
            "Epoch 50/50\n",
            "1130/1130 [==============================] - 0s 234us/step - loss: 0.6483 - acc: 0.6487 - f1_score: nan\n"
          ],
          "name": "stdout"
        }
      ]
    },
    {
      "cell_type": "code",
      "metadata": {
        "id": "NqS1xDpo4LjW",
        "colab_type": "code",
        "outputId": "5366cbdf-056e-45b7-b06e-11839b20e102",
        "colab": {
          "base_uri": "https://localhost:8080/",
          "height": 349
        }
      },
      "source": [
        "loss, acc, f1 = menModel.evaluate(test_Men_pred, testMen_labels)\n",
        "p1 = menModel.predict(test_Men_pred)\n",
        "print(\"Loss: \", loss)\n",
        "print('Accuracy: ', acc)                       \n",
        "# Show loss curves                                          \n",
        "plt.figure()\n",
        "plt.grid()                                              \n",
        "                                                            \n",
        "plt.title('Testing performance')                          \n",
        "plt.plot(h.epoch, h.history['loss'], label='train loss+error')  \n",
        "plt.plot(h.epoch, h.history['f1_score'], label='f1_score')\n",
        "plt.legend()"
      ],
      "execution_count": 0,
      "outputs": [
        {
          "output_type": "stream",
          "text": [
            "120/120 [==============================] - 0s 337us/step\n",
            "Loss:  0.6971778392791748\n",
            "Accuracy:  0.5666666666666667\n"
          ],
          "name": "stdout"
        },
        {
          "output_type": "execute_result",
          "data": {
            "text/plain": [
              "<matplotlib.legend.Legend at 0x7f5a67ece860>"
            ]
          },
          "metadata": {
            "tags": []
          },
          "execution_count": 67
        },
        {
          "output_type": "display_data",
          "data": {
            "image/png": "[encoded data removed]",
            "text/plain": [
              "<Figure size 432x288 with 1 Axes>"
            ]
          },
          "metadata": {
            "tags": []
          }
        }
      ]
    },
    {
      "cell_type": "code",
      "metadata": {
        "id": "oiKi1DebC4X8",
        "colab_type": "code",
        "colab": {}
      },
      "source": [
        "del train_Men_pred\n",
        "del menModel"
      ],
      "execution_count": 0,
      "outputs": []
    },
    {
      "cell_type": "markdown",
      "metadata": {
        "id": "pJs7J20U4lGu",
        "colab_type": "text"
      },
      "source": [
        "###ACL"
      ]
    },
    {
      "cell_type": "code",
      "metadata": {
        "colab_type": "code",
        "outputId": "79b9d7a8-c2d7-4046-a9fb-d57a1959ac00",
        "id": "Za99XogRCz-n",
        "colab": {
          "base_uri": "https://localhost:8080/",
          "height": 2091
        }
      },
      "source": [
        "train_ACL_pred = np.array(train_ACL_pred)\n",
        "print(train_ACL_pred.shape)\n",
        "test_ACL_pred = np.array(test_ACL_pred)\n",
        "print(test_Men_pred.shape)\n",
        "\n",
        "train_ACL_pred = train_ACL_pred.reshape((1130,3))\n",
        "test_ACL_pred = test_ACL_pred.reshape((120,3))\n",
        "print(test_ACL_pred)"
      ],
      "execution_count": 0,
      "outputs": [
        {
          "output_type": "stream",
          "text": [
            "(3, 1130, 1)\n",
            "(120, 3)\n",
            "[[0.0000000e+00 0.0000000e+00 1.0000000e+00]\n",
            " [0.0000000e+00 0.0000000e+00 0.0000000e+00]\n",
            " [0.0000000e+00 9.2228138e-01 0.0000000e+00]\n",
            " [0.0000000e+00 0.0000000e+00 0.0000000e+00]\n",
            " [0.0000000e+00 0.0000000e+00 0.0000000e+00]\n",
            " [0.0000000e+00 0.0000000e+00 0.0000000e+00]\n",
            " [0.0000000e+00 0.0000000e+00 0.0000000e+00]\n",
            " [1.0000000e+00 0.0000000e+00 0.0000000e+00]\n",
            " [0.0000000e+00 0.0000000e+00 0.0000000e+00]\n",
            " [0.0000000e+00 0.0000000e+00 0.0000000e+00]\n",
            " [0.0000000e+00 0.0000000e+00 1.0000000e+00]\n",
            " [0.0000000e+00 0.0000000e+00 0.0000000e+00]\n",
            " [0.0000000e+00 0.0000000e+00 0.0000000e+00]\n",
            " [0.0000000e+00 1.0000000e+00 0.0000000e+00]\n",
            " [0.0000000e+00 0.0000000e+00 0.0000000e+00]\n",
            " [0.0000000e+00 0.0000000e+00 1.0000000e+00]\n",
            " [0.0000000e+00 0.0000000e+00 0.0000000e+00]\n",
            " [0.0000000e+00 0.0000000e+00 9.5201337e-01]\n",
            " [0.0000000e+00 0.0000000e+00 0.0000000e+00]\n",
            " [9.9243468e-01 0.0000000e+00 0.0000000e+00]\n",
            " [1.0000000e+00 3.7060529e-01 1.0000000e+00]\n",
            " [0.0000000e+00 0.0000000e+00 0.0000000e+00]\n",
            " [0.0000000e+00 5.9604645e-08 0.0000000e+00]\n",
            " [0.0000000e+00 0.0000000e+00 0.0000000e+00]\n",
            " [1.0000000e+00 0.0000000e+00 0.0000000e+00]\n",
            " [0.0000000e+00 0.0000000e+00 0.0000000e+00]\n",
            " [0.0000000e+00 0.0000000e+00 0.0000000e+00]\n",
            " [0.0000000e+00 0.0000000e+00 0.0000000e+00]\n",
            " [0.0000000e+00 0.0000000e+00 0.0000000e+00]\n",
            " [8.9406967e-08 0.0000000e+00 0.0000000e+00]\n",
            " [0.0000000e+00 3.4435368e-01 0.0000000e+00]\n",
            " [0.0000000e+00 0.0000000e+00 0.0000000e+00]\n",
            " [0.0000000e+00 0.0000000e+00 0.0000000e+00]\n",
            " [0.0000000e+00 0.0000000e+00 2.9206276e-06]\n",
            " [0.0000000e+00 0.0000000e+00 0.0000000e+00]\n",
            " [0.0000000e+00 0.0000000e+00 0.0000000e+00]\n",
            " [0.0000000e+00 0.0000000e+00 2.2351742e-06]\n",
            " [0.0000000e+00 0.0000000e+00 0.0000000e+00]\n",
            " [0.0000000e+00 0.0000000e+00 0.0000000e+00]\n",
            " [0.0000000e+00 0.0000000e+00 0.0000000e+00]\n",
            " [1.0000000e+00 1.0000000e+00 1.0000000e+00]\n",
            " [1.0000000e+00 1.0000000e+00 1.0000000e+00]\n",
            " [1.0000000e+00 1.0000000e+00 1.0000000e+00]\n",
            " [1.0000000e+00 1.0000000e+00 1.0000000e+00]\n",
            " [1.0000000e+00 1.0000000e+00 1.0000000e+00]\n",
            " [1.0000000e+00 1.0000000e+00 1.0000000e+00]\n",
            " [1.0000000e+00 1.0000000e+00 1.0000000e+00]\n",
            " [1.0000000e+00 1.0000000e+00 1.0000000e+00]\n",
            " [1.0000000e+00 1.0000000e+00 1.0000000e+00]\n",
            " [1.0000000e+00 1.0000000e+00 1.0000000e+00]\n",
            " [1.0000000e+00 1.0000000e+00 1.0000000e+00]\n",
            " [1.0000000e+00 1.0000000e+00 1.0000000e+00]\n",
            " [1.0000000e+00 1.0000000e+00 1.0000000e+00]\n",
            " [1.0000000e+00 1.0000000e+00 1.0000000e+00]\n",
            " [1.0000000e+00 1.0000000e+00 1.0000000e+00]\n",
            " [1.0000000e+00 1.0000000e+00 1.0000000e+00]\n",
            " [1.0000000e+00 1.0000000e+00 1.0000000e+00]\n",
            " [1.0000000e+00 1.0000000e+00 1.0000000e+00]\n",
            " [1.0000000e+00 1.0000000e+00 1.0000000e+00]\n",
            " [1.0000000e+00 1.0000000e+00 1.0000000e+00]\n",
            " [1.0000000e+00 1.0000000e+00 1.0000000e+00]\n",
            " [1.0000000e+00 1.0000000e+00 1.0000000e+00]\n",
            " [1.0000000e+00 1.0000000e+00 1.0000000e+00]\n",
            " [1.0000000e+00 1.0000000e+00 1.0000000e+00]\n",
            " [1.0000000e+00 1.0000000e+00 1.0000000e+00]\n",
            " [1.0000000e+00 1.0000000e+00 1.0000000e+00]\n",
            " [1.0000000e+00 1.0000000e+00 1.0000000e+00]\n",
            " [1.0000000e+00 1.0000000e+00 1.0000000e+00]\n",
            " [1.0000000e+00 1.0000000e+00 1.0000000e+00]\n",
            " [1.0000000e+00 1.0000000e+00 1.0000000e+00]\n",
            " [1.0000000e+00 1.0000000e+00 1.0000000e+00]\n",
            " [1.0000000e+00 1.0000000e+00 1.0000000e+00]\n",
            " [1.0000000e+00 1.0000000e+00 1.0000000e+00]\n",
            " [1.0000000e+00 1.0000000e+00 1.0000000e+00]\n",
            " [1.0000000e+00 1.0000000e+00 1.0000000e+00]\n",
            " [1.0000000e+00 1.0000000e+00 1.0000000e+00]\n",
            " [1.0000000e+00 1.0000000e+00 1.0000000e+00]\n",
            " [1.0000000e+00 1.0000000e+00 1.0000000e+00]\n",
            " [1.0000000e+00 1.0000000e+00 1.0000000e+00]\n",
            " [1.0000000e+00 1.0000000e+00 1.0000000e+00]\n",
            " [0.0000000e+00 0.0000000e+00 1.0000000e+00]\n",
            " [0.0000000e+00 0.0000000e+00 0.0000000e+00]\n",
            " [0.0000000e+00 1.0000000e+00 1.0000000e+00]\n",
            " [0.0000000e+00 0.0000000e+00 0.0000000e+00]\n",
            " [0.0000000e+00 0.0000000e+00 0.0000000e+00]\n",
            " [0.0000000e+00 0.0000000e+00 0.0000000e+00]\n",
            " [0.0000000e+00 0.0000000e+00 0.0000000e+00]\n",
            " [1.0000000e+00 0.0000000e+00 0.0000000e+00]\n",
            " [0.0000000e+00 0.0000000e+00 0.0000000e+00]\n",
            " [0.0000000e+00 0.0000000e+00 0.0000000e+00]\n",
            " [0.0000000e+00 0.0000000e+00 0.0000000e+00]\n",
            " [0.0000000e+00 5.5730343e-06 0.0000000e+00]\n",
            " [0.0000000e+00 0.0000000e+00 0.0000000e+00]\n",
            " [0.0000000e+00 0.0000000e+00 0.0000000e+00]\n",
            " [0.0000000e+00 0.0000000e+00 0.0000000e+00]\n",
            " [0.0000000e+00 9.9855649e-01 0.0000000e+00]\n",
            " [0.0000000e+00 0.0000000e+00 0.0000000e+00]\n",
            " [0.0000000e+00 0.0000000e+00 0.0000000e+00]\n",
            " [0.0000000e+00 0.0000000e+00 0.0000000e+00]\n",
            " [0.0000000e+00 0.0000000e+00 0.0000000e+00]\n",
            " [0.0000000e+00 0.0000000e+00 0.0000000e+00]\n",
            " [0.0000000e+00 0.0000000e+00 0.0000000e+00]\n",
            " [0.0000000e+00 0.0000000e+00 0.0000000e+00]\n",
            " [0.0000000e+00 0.0000000e+00 0.0000000e+00]\n",
            " [0.0000000e+00 0.0000000e+00 0.0000000e+00]\n",
            " [0.0000000e+00 0.0000000e+00 7.1597099e-04]\n",
            " [0.0000000e+00 0.0000000e+00 0.0000000e+00]\n",
            " [0.0000000e+00 1.5252829e-04 0.0000000e+00]\n",
            " [0.0000000e+00 0.0000000e+00 0.0000000e+00]\n",
            " [0.0000000e+00 0.0000000e+00 0.0000000e+00]\n",
            " [0.0000000e+00 0.0000000e+00 0.0000000e+00]\n",
            " [0.0000000e+00 0.0000000e+00 0.0000000e+00]\n",
            " [0.0000000e+00 0.0000000e+00 0.0000000e+00]\n",
            " [0.0000000e+00 0.0000000e+00 0.0000000e+00]\n",
            " [0.0000000e+00 0.0000000e+00 0.0000000e+00]\n",
            " [0.0000000e+00 0.0000000e+00 0.0000000e+00]\n",
            " [0.0000000e+00 0.0000000e+00 0.0000000e+00]\n",
            " [0.0000000e+00 0.0000000e+00 0.0000000e+00]\n",
            " [0.0000000e+00 0.0000000e+00 0.0000000e+00]\n",
            " [0.0000000e+00 0.0000000e+00 0.0000000e+00]]\n"
          ],
          "name": "stdout"
        }
      ]
    },
    {
      "cell_type": "code",
      "metadata": {
        "colab_type": "code",
        "outputId": "cf8b8025-8541-4523-d717-a9a2d4e9fa68",
        "id": "sHllxCwuCz-2",
        "colab": {
          "base_uri": "https://localhost:8080/",
          "height": 1717
        }
      },
      "source": [
        "menModel = Sequential()\n",
        "menModel.add(Dense(1, activation='sigmoid', input_dim=3))\n",
        "\n",
        "menModel.compile(loss='binary_crossentropy', optimizer='adam', metrics=['acc',f1])\n",
        "h = menModel.fit(train_ACL_pred, trainACL_labels, batch_size=32, epochs=50, verbose=1)"
      ],
      "execution_count": 0,
      "outputs": [
        {
          "output_type": "stream",
          "text": [
            "Epoch 1/50\n",
            "1130/1130 [==============================] - 40s 36ms/step - loss: 0.9080 - acc: 0.5071 - f1: 0.2282\n",
            "Epoch 2/50\n",
            "1130/1130 [==============================] - 0s 245us/step - loss: 0.8710 - acc: 0.5124 - f1: 0.2246\n",
            "Epoch 3/50\n",
            "1130/1130 [==============================] - 0s 237us/step - loss: 0.8361 - acc: 0.5124 - f1: 0.2311\n",
            "Epoch 4/50\n",
            "1130/1130 [==============================] - 0s 237us/step - loss: 0.8040 - acc: 0.5159 - f1: 0.2300\n",
            "Epoch 5/50\n",
            "1130/1130 [==============================] - 0s 238us/step - loss: 0.7741 - acc: 0.5168 - f1: 0.2209\n",
            "Epoch 6/50\n",
            "1130/1130 [==============================] - 0s 245us/step - loss: 0.7463 - acc: 0.5168 - f1: 0.2260\n",
            "Epoch 7/50\n",
            "1130/1130 [==============================] - 0s 235us/step - loss: 0.7211 - acc: 0.5168 - f1: 0.2295\n",
            "Epoch 8/50\n",
            "1130/1130 [==============================] - 0s 237us/step - loss: 0.6977 - acc: 0.5195 - f1: 0.2282\n",
            "Epoch 9/50\n",
            "1130/1130 [==============================] - 0s 241us/step - loss: 0.6767 - acc: 0.5301 - f1: 0.2255\n",
            "Epoch 10/50\n",
            "1130/1130 [==============================] - 0s 234us/step - loss: 0.6580 - acc: 0.5496 - f1: 0.2137\n",
            "Epoch 11/50\n",
            "1130/1130 [==============================] - 0s 235us/step - loss: 0.6405 - acc: 0.7673 - f1: 0.0636\n",
            "Epoch 12/50\n",
            "1130/1130 [==============================] - 0s 234us/step - loss: 0.6250 - acc: 0.7735 - f1: 0.0622\n",
            "Epoch 13/50\n",
            "1130/1130 [==============================] - 0s 238us/step - loss: 0.6108 - acc: 0.7743 - f1: 0.0661\n",
            "Epoch 14/50\n",
            "1130/1130 [==============================] - 0s 233us/step - loss: 0.5983 - acc: 0.7743 - f1: 0.0641\n",
            "Epoch 15/50\n",
            "1130/1130 [==============================] - 0s 236us/step - loss: 0.5871 - acc: 0.7752 - f1: 0.0556\n",
            "Epoch 16/50\n",
            "1130/1130 [==============================] - 0s 232us/step - loss: 0.5771 - acc: 0.7770 - f1: 0.0646\n",
            "Epoch 17/50\n",
            "1130/1130 [==============================] - 0s 243us/step - loss: 0.5682 - acc: 0.8133 - f1: 0.0063\n",
            "Epoch 18/50\n",
            "1130/1130 [==============================] - 0s 235us/step - loss: 0.5602 - acc: 0.8150 - f1: 0.0094\n",
            "Epoch 19/50\n",
            "1130/1130 [==============================] - 0s 233us/step - loss: 0.5531 - acc: 0.8142 - f1: 0.0000e+00\n",
            "Epoch 20/50\n",
            "1130/1130 [==============================] - 0s 233us/step - loss: 0.5466 - acc: 0.8159 - f1: 0.0000e+00\n",
            "Epoch 21/50\n",
            "1130/1130 [==============================] - 0s 239us/step - loss: 0.5409 - acc: 0.8159 - f1: 0.0000e+00\n",
            "Epoch 22/50\n",
            "1130/1130 [==============================] - 0s 235us/step - loss: 0.5358 - acc: 0.8159 - f1: 0.0000e+00\n",
            "Epoch 23/50\n",
            "1130/1130 [==============================] - 0s 236us/step - loss: 0.5311 - acc: 0.8159 - f1: 0.0000e+00\n",
            "Epoch 24/50\n",
            "1130/1130 [==============================] - 0s 237us/step - loss: 0.5271 - acc: 0.8159 - f1: 0.0000e+00\n",
            "Epoch 25/50\n",
            "1130/1130 [==============================] - 0s 246us/step - loss: 0.5233 - acc: 0.8159 - f1: 0.0000e+00\n",
            "Epoch 26/50\n",
            "1130/1130 [==============================] - 0s 236us/step - loss: 0.5200 - acc: 0.8159 - f1: 0.0000e+00\n",
            "Epoch 27/50\n",
            "1130/1130 [==============================] - 0s 236us/step - loss: 0.5170 - acc: 0.8159 - f1: 0.0000e+00\n",
            "Epoch 28/50\n",
            "1130/1130 [==============================] - 0s 246us/step - loss: 0.5143 - acc: 0.8159 - f1: 0.0000e+00\n",
            "Epoch 29/50\n",
            "1130/1130 [==============================] - 0s 238us/step - loss: 0.5119 - acc: 0.8159 - f1: 0.0000e+00\n",
            "Epoch 30/50\n",
            "1130/1130 [==============================] - 0s 237us/step - loss: 0.5098 - acc: 0.8159 - f1: 0.0000e+00\n",
            "Epoch 31/50\n",
            "1130/1130 [==============================] - 0s 236us/step - loss: 0.5079 - acc: 0.8159 - f1: 0.0000e+00\n",
            "Epoch 32/50\n",
            "1130/1130 [==============================] - 0s 247us/step - loss: 0.5060 - acc: 0.8159 - f1: 0.0000e+00\n",
            "Epoch 33/50\n",
            "1130/1130 [==============================] - 0s 233us/step - loss: 0.5044 - acc: 0.8159 - f1: 0.0000e+00\n",
            "Epoch 34/50\n",
            "1130/1130 [==============================] - 0s 240us/step - loss: 0.5029 - acc: 0.8159 - f1: 0.0000e+00\n",
            "Epoch 35/50\n",
            "1130/1130 [==============================] - 0s 235us/step - loss: 0.5016 - acc: 0.8159 - f1: 0.0000e+00\n",
            "Epoch 36/50\n",
            "1130/1130 [==============================] - 0s 245us/step - loss: 0.5004 - acc: 0.8159 - f1: 0.0000e+00\n",
            "Epoch 37/50\n",
            "1130/1130 [==============================] - 0s 235us/step - loss: 0.4992 - acc: 0.8159 - f1: 0.0000e+00\n",
            "Epoch 38/50\n",
            "1130/1130 [==============================] - 0s 235us/step - loss: 0.4982 - acc: 0.8159 - f1: 0.0000e+00\n",
            "Epoch 39/50\n",
            "1130/1130 [==============================] - 0s 235us/step - loss: 0.4972 - acc: 0.8159 - f1: 0.0000e+00\n",
            "Epoch 40/50\n",
            "1130/1130 [==============================] - 0s 243us/step - loss: 0.4964 - acc: 0.8159 - f1: 0.0000e+00\n",
            "Epoch 41/50\n",
            "1130/1130 [==============================] - 0s 243us/step - loss: 0.4956 - acc: 0.8159 - f1: 0.0000e+00\n",
            "Epoch 42/50\n",
            "1130/1130 [==============================] - 0s 231us/step - loss: 0.4948 - acc: 0.8159 - f1: 0.0000e+00\n",
            "Epoch 43/50\n",
            "1130/1130 [==============================] - 0s 237us/step - loss: 0.4941 - acc: 0.8159 - f1: 0.0000e+00\n",
            "Epoch 44/50\n",
            "1130/1130 [==============================] - 0s 245us/step - loss: 0.4934 - acc: 0.8159 - f1: 0.0000e+00\n",
            "Epoch 45/50\n",
            "1130/1130 [==============================] - 0s 228us/step - loss: 0.4928 - acc: 0.8159 - f1: 0.0000e+00\n",
            "Epoch 46/50\n",
            "1130/1130 [==============================] - 0s 236us/step - loss: 0.4922 - acc: 0.8159 - f1: 0.0000e+00\n",
            "Epoch 47/50\n",
            "1130/1130 [==============================] - 0s 249us/step - loss: 0.4916 - acc: 0.8159 - f1: 0.0000e+00\n",
            "Epoch 48/50\n",
            "1130/1130 [==============================] - 0s 232us/step - loss: 0.4911 - acc: 0.8159 - f1: 0.0000e+00\n",
            "Epoch 49/50\n",
            "1130/1130 [==============================] - 0s 232us/step - loss: 0.4906 - acc: 0.8159 - f1: 0.0000e+00\n",
            "Epoch 50/50\n",
            "1130/1130 [==============================] - 0s 236us/step - loss: 0.4902 - acc: 0.8159 - f1: 0.0000e+00\n"
          ],
          "name": "stdout"
        }
      ]
    },
    {
      "cell_type": "code",
      "metadata": {
        "colab_type": "code",
        "outputId": "798bf335-debf-4ae4-eb37-9738d9a1fc69",
        "id": "LPmLLhj1Cz_A",
        "colab": {
          "base_uri": "https://localhost:8080/",
          "height": 349
        }
      },
      "source": [
        "loss, acc, f1 = menModel.evaluate(test_ACL_pred, testACL_labels)\n",
        "p2 = menModel.predict(test_ACL_pred)\n",
        "print(\"Loss: \", loss)\n",
        "print('Accuracy: ', acc)\n",
        "# Show loss curves                                          \n",
        "plt.figure()\n",
        "plt.grid()                                              \n",
        "                                                            \n",
        "plt.title('Testing performance')                          \n",
        "plt.plot(h.epoch, h.history['loss'], label='train loss+error')  \n",
        "plt.plot(h.epoch, h.history['f1'], label='f1')\n",
        "plt.legend()"
      ],
      "execution_count": 0,
      "outputs": [
        {
          "output_type": "stream",
          "text": [
            "120/120 [==============================] - 19s 155ms/step\n",
            "Loss:  0.9375431060791015\n",
            "Accuracy:  0.55\n"
          ],
          "name": "stdout"
        },
        {
          "output_type": "execute_result",
          "data": {
            "text/plain": [
              "<matplotlib.legend.Legend at 0x7f5a677e7978>"
            ]
          },
          "metadata": {
            "tags": []
          },
          "execution_count": 74
        },
        {
          "output_type": "display_data",
          "data": {
            "image/png": "[encoded data removed]",
            "text/plain": [
              "<Figure size 432x288 with 1 Axes>"
            ]
          },
          "metadata": {
            "tags": []
          }
        }
      ]
    },
    {
      "cell_type": "code",
      "metadata": {
        "id": "dm6Y7ofiDmgr",
        "colab_type": "code",
        "colab": {}
      },
      "source": [
        "del train_ACL_pred\n",
        "del menModel"
      ],
      "execution_count": 0,
      "outputs": []
    },
    {
      "cell_type": "markdown",
      "metadata": {
        "id": "VXE1feJ7D_qQ",
        "colab_type": "text"
      },
      "source": [
        "###Abnormal"
      ]
    },
    {
      "cell_type": "code",
      "metadata": {
        "colab_type": "code",
        "outputId": "5f89d469-ecf9-4f22-b97d-653f5b065881",
        "id": "UvKiF1LmEOlO",
        "colab": {
          "base_uri": "https://localhost:8080/",
          "height": 2091
        }
      },
      "source": [
        "train_Ab_pred = np.array(train_Ab_pred)\n",
        "print(train_Ab_pred.shape)\n",
        "test_Ab_pred = np.array(test_Ab_pred)\n",
        "print(test_Ab_pred.shape)\n",
        "\n",
        "train_Ab_pred = train_Ab_pred.reshape((1130,3))\n",
        "test_Ab_pred = test_Ab_pred.reshape((120,3))\n",
        "print(test_ACL_pred)"
      ],
      "execution_count": 0,
      "outputs": [
        {
          "output_type": "stream",
          "text": [
            "(3, 1130, 1)\n",
            "(3, 120, 1)\n",
            "[[0.0000000e+00 0.0000000e+00 1.0000000e+00]\n",
            " [0.0000000e+00 0.0000000e+00 0.0000000e+00]\n",
            " [0.0000000e+00 9.2228138e-01 0.0000000e+00]\n",
            " [0.0000000e+00 0.0000000e+00 0.0000000e+00]\n",
            " [0.0000000e+00 0.0000000e+00 0.0000000e+00]\n",
            " [0.0000000e+00 0.0000000e+00 0.0000000e+00]\n",
            " [0.0000000e+00 0.0000000e+00 0.0000000e+00]\n",
            " [1.0000000e+00 0.0000000e+00 0.0000000e+00]\n",
            " [0.0000000e+00 0.0000000e+00 0.0000000e+00]\n",
            " [0.0000000e+00 0.0000000e+00 0.0000000e+00]\n",
            " [0.0000000e+00 0.0000000e+00 1.0000000e+00]\n",
            " [0.0000000e+00 0.0000000e+00 0.0000000e+00]\n",
            " [0.0000000e+00 0.0000000e+00 0.0000000e+00]\n",
            " [0.0000000e+00 1.0000000e+00 0.0000000e+00]\n",
            " [0.0000000e+00 0.0000000e+00 0.0000000e+00]\n",
            " [0.0000000e+00 0.0000000e+00 1.0000000e+00]\n",
            " [0.0000000e+00 0.0000000e+00 0.0000000e+00]\n",
            " [0.0000000e+00 0.0000000e+00 9.5201337e-01]\n",
            " [0.0000000e+00 0.0000000e+00 0.0000000e+00]\n",
            " [9.9243468e-01 0.0000000e+00 0.0000000e+00]\n",
            " [1.0000000e+00 3.7060529e-01 1.0000000e+00]\n",
            " [0.0000000e+00 0.0000000e+00 0.0000000e+00]\n",
            " [0.0000000e+00 5.9604645e-08 0.0000000e+00]\n",
            " [0.0000000e+00 0.0000000e+00 0.0000000e+00]\n",
            " [1.0000000e+00 0.0000000e+00 0.0000000e+00]\n",
            " [0.0000000e+00 0.0000000e+00 0.0000000e+00]\n",
            " [0.0000000e+00 0.0000000e+00 0.0000000e+00]\n",
            " [0.0000000e+00 0.0000000e+00 0.0000000e+00]\n",
            " [0.0000000e+00 0.0000000e+00 0.0000000e+00]\n",
            " [8.9406967e-08 0.0000000e+00 0.0000000e+00]\n",
            " [0.0000000e+00 3.4435368e-01 0.0000000e+00]\n",
            " [0.0000000e+00 0.0000000e+00 0.0000000e+00]\n",
            " [0.0000000e+00 0.0000000e+00 0.0000000e+00]\n",
            " [0.0000000e+00 0.0000000e+00 2.9206276e-06]\n",
            " [0.0000000e+00 0.0000000e+00 0.0000000e+00]\n",
            " [0.0000000e+00 0.0000000e+00 0.0000000e+00]\n",
            " [0.0000000e+00 0.0000000e+00 2.2351742e-06]\n",
            " [0.0000000e+00 0.0000000e+00 0.0000000e+00]\n",
            " [0.0000000e+00 0.0000000e+00 0.0000000e+00]\n",
            " [0.0000000e+00 0.0000000e+00 0.0000000e+00]\n",
            " [1.0000000e+00 1.0000000e+00 1.0000000e+00]\n",
            " [1.0000000e+00 1.0000000e+00 1.0000000e+00]\n",
            " [1.0000000e+00 1.0000000e+00 1.0000000e+00]\n",
            " [1.0000000e+00 1.0000000e+00 1.0000000e+00]\n",
            " [1.0000000e+00 1.0000000e+00 1.0000000e+00]\n",
            " [1.0000000e+00 1.0000000e+00 1.0000000e+00]\n",
            " [1.0000000e+00 1.0000000e+00 1.0000000e+00]\n",
            " [1.0000000e+00 1.0000000e+00 1.0000000e+00]\n",
            " [1.0000000e+00 1.0000000e+00 1.0000000e+00]\n",
            " [1.0000000e+00 1.0000000e+00 1.0000000e+00]\n",
            " [1.0000000e+00 1.0000000e+00 1.0000000e+00]\n",
            " [1.0000000e+00 1.0000000e+00 1.0000000e+00]\n",
            " [1.0000000e+00 1.0000000e+00 1.0000000e+00]\n",
            " [1.0000000e+00 1.0000000e+00 1.0000000e+00]\n",
            " [1.0000000e+00 1.0000000e+00 1.0000000e+00]\n",
            " [1.0000000e+00 1.0000000e+00 1.0000000e+00]\n",
            " [1.0000000e+00 1.0000000e+00 1.0000000e+00]\n",
            " [1.0000000e+00 1.0000000e+00 1.0000000e+00]\n",
            " [1.0000000e+00 1.0000000e+00 1.0000000e+00]\n",
            " [1.0000000e+00 1.0000000e+00 1.0000000e+00]\n",
            " [1.0000000e+00 1.0000000e+00 1.0000000e+00]\n",
            " [1.0000000e+00 1.0000000e+00 1.0000000e+00]\n",
            " [1.0000000e+00 1.0000000e+00 1.0000000e+00]\n",
            " [1.0000000e+00 1.0000000e+00 1.0000000e+00]\n",
            " [1.0000000e+00 1.0000000e+00 1.0000000e+00]\n",
            " [1.0000000e+00 1.0000000e+00 1.0000000e+00]\n",
            " [1.0000000e+00 1.0000000e+00 1.0000000e+00]\n",
            " [1.0000000e+00 1.0000000e+00 1.0000000e+00]\n",
            " [1.0000000e+00 1.0000000e+00 1.0000000e+00]\n",
            " [1.0000000e+00 1.0000000e+00 1.0000000e+00]\n",
            " [1.0000000e+00 1.0000000e+00 1.0000000e+00]\n",
            " [1.0000000e+00 1.0000000e+00 1.0000000e+00]\n",
            " [1.0000000e+00 1.0000000e+00 1.0000000e+00]\n",
            " [1.0000000e+00 1.0000000e+00 1.0000000e+00]\n",
            " [1.0000000e+00 1.0000000e+00 1.0000000e+00]\n",
            " [1.0000000e+00 1.0000000e+00 1.0000000e+00]\n",
            " [1.0000000e+00 1.0000000e+00 1.0000000e+00]\n",
            " [1.0000000e+00 1.0000000e+00 1.0000000e+00]\n",
            " [1.0000000e+00 1.0000000e+00 1.0000000e+00]\n",
            " [1.0000000e+00 1.0000000e+00 1.0000000e+00]\n",
            " [0.0000000e+00 0.0000000e+00 1.0000000e+00]\n",
            " [0.0000000e+00 0.0000000e+00 0.0000000e+00]\n",
            " [0.0000000e+00 1.0000000e+00 1.0000000e+00]\n",
            " [0.0000000e+00 0.0000000e+00 0.0000000e+00]\n",
            " [0.0000000e+00 0.0000000e+00 0.0000000e+00]\n",
            " [0.0000000e+00 0.0000000e+00 0.0000000e+00]\n",
            " [0.0000000e+00 0.0000000e+00 0.0000000e+00]\n",
            " [1.0000000e+00 0.0000000e+00 0.0000000e+00]\n",
            " [0.0000000e+00 0.0000000e+00 0.0000000e+00]\n",
            " [0.0000000e+00 0.0000000e+00 0.0000000e+00]\n",
            " [0.0000000e+00 0.0000000e+00 0.0000000e+00]\n",
            " [0.0000000e+00 5.5730343e-06 0.0000000e+00]\n",
            " [0.0000000e+00 0.0000000e+00 0.0000000e+00]\n",
            " [0.0000000e+00 0.0000000e+00 0.0000000e+00]\n",
            " [0.0000000e+00 0.0000000e+00 0.0000000e+00]\n",
            " [0.0000000e+00 9.9855649e-01 0.0000000e+00]\n",
            " [0.0000000e+00 0.0000000e+00 0.0000000e+00]\n",
            " [0.0000000e+00 0.0000000e+00 0.0000000e+00]\n",
            " [0.0000000e+00 0.0000000e+00 0.0000000e+00]\n",
            " [0.0000000e+00 0.0000000e+00 0.0000000e+00]\n",
            " [0.0000000e+00 0.0000000e+00 0.0000000e+00]\n",
            " [0.0000000e+00 0.0000000e+00 0.0000000e+00]\n",
            " [0.0000000e+00 0.0000000e+00 0.0000000e+00]\n",
            " [0.0000000e+00 0.0000000e+00 0.0000000e+00]\n",
            " [0.0000000e+00 0.0000000e+00 0.0000000e+00]\n",
            " [0.0000000e+00 0.0000000e+00 7.1597099e-04]\n",
            " [0.0000000e+00 0.0000000e+00 0.0000000e+00]\n",
            " [0.0000000e+00 1.5252829e-04 0.0000000e+00]\n",
            " [0.0000000e+00 0.0000000e+00 0.0000000e+00]\n",
            " [0.0000000e+00 0.0000000e+00 0.0000000e+00]\n",
            " [0.0000000e+00 0.0000000e+00 0.0000000e+00]\n",
            " [0.0000000e+00 0.0000000e+00 0.0000000e+00]\n",
            " [0.0000000e+00 0.0000000e+00 0.0000000e+00]\n",
            " [0.0000000e+00 0.0000000e+00 0.0000000e+00]\n",
            " [0.0000000e+00 0.0000000e+00 0.0000000e+00]\n",
            " [0.0000000e+00 0.0000000e+00 0.0000000e+00]\n",
            " [0.0000000e+00 0.0000000e+00 0.0000000e+00]\n",
            " [0.0000000e+00 0.0000000e+00 0.0000000e+00]\n",
            " [0.0000000e+00 0.0000000e+00 0.0000000e+00]\n",
            " [0.0000000e+00 0.0000000e+00 0.0000000e+00]]\n"
          ],
          "name": "stdout"
        }
      ]
    },
    {
      "cell_type": "code",
      "metadata": {
        "colab_type": "code",
        "outputId": "a6e67fe8-c18b-4ac6-e655-a17dc7a82047",
        "id": "WM7sx5NGEOlj",
        "colab": {
          "base_uri": "https://localhost:8080/",
          "height": 1717
        }
      },
      "source": [
        "abModel = Sequential()\n",
        "abModel.add(Dense(1, activation='sigmoid', input_dim=3))\n",
        "\n",
        "abModel.compile(loss='binary_crossentropy', optimizer='adam', metrics=['acc',f1] )\n",
        "h = abModel.fit(train_Ab_pred, trainAb_labels, batch_size=32, epochs=50, verbose=1)"
      ],
      "execution_count": 0,
      "outputs": [
        {
          "output_type": "stream",
          "text": [
            "Epoch 1/50\n",
            "1130/1130 [==============================] - 40s 36ms/step - loss: 0.7098 - acc: 0.5451 - f1: 0.3887\n",
            "Epoch 2/50\n",
            "1130/1130 [==============================] - 0s 286us/step - loss: 0.6984 - acc: 0.5442 - f1: 0.3790\n",
            "Epoch 3/50\n",
            "1130/1130 [==============================] - 0s 280us/step - loss: 0.6897 - acc: 0.5690 - f1: 0.2857\n",
            "Epoch 4/50\n",
            "1130/1130 [==============================] - 0s 273us/step - loss: 0.6831 - acc: 0.6389 - f1: 0.1075\n",
            "Epoch 5/50\n",
            "1130/1130 [==============================] - 0s 280us/step - loss: 0.6780 - acc: 0.6398 - f1: 0.1033\n",
            "Epoch 6/50\n",
            "1130/1130 [==============================] - 0s 276us/step - loss: 0.6736 - acc: 0.6407 - f1: 0.0981\n",
            "Epoch 7/50\n",
            "1130/1130 [==============================] - 0s 276us/step - loss: 0.6702 - acc: 0.6434 - f1: 0.0580\n",
            "Epoch 8/50\n",
            "1130/1130 [==============================] - 0s 286us/step - loss: 0.6676 - acc: 0.6434 - f1: 0.0527\n",
            "Epoch 9/50\n",
            "1130/1130 [==============================] - 0s 275us/step - loss: 0.6655 - acc: 0.6434 - f1: 0.0565\n",
            "Epoch 10/50\n",
            "1130/1130 [==============================] - 0s 280us/step - loss: 0.6637 - acc: 0.6434 - f1: 0.0526\n",
            "Epoch 11/50\n",
            "1130/1130 [==============================] - 0s 287us/step - loss: 0.6620 - acc: 0.6434 - f1: 0.0605\n",
            "Epoch 12/50\n",
            "1130/1130 [==============================] - 0s 275us/step - loss: 0.6608 - acc: 0.6434 - f1: 0.0532\n",
            "Epoch 13/50\n",
            "1130/1130 [==============================] - 0s 277us/step - loss: 0.6599 - acc: 0.6434 - f1: 0.0561\n",
            "Epoch 14/50\n",
            "1130/1130 [==============================] - 0s 281us/step - loss: 0.6588 - acc: 0.6434 - f1: 0.0569\n",
            "Epoch 15/50\n",
            "1130/1130 [==============================] - 0s 275us/step - loss: 0.6582 - acc: 0.6434 - f1: 0.0533\n",
            "Epoch 16/50\n",
            "1130/1130 [==============================] - 0s 280us/step - loss: 0.6575 - acc: 0.6434 - f1: 0.0539\n",
            "Epoch 17/50\n",
            "1130/1130 [==============================] - 0s 281us/step - loss: 0.6569 - acc: 0.6434 - f1: 0.0588\n",
            "Epoch 18/50\n",
            "1130/1130 [==============================] - 0s 284us/step - loss: 0.6564 - acc: 0.6434 - f1: 0.0556\n",
            "Epoch 19/50\n",
            "1130/1130 [==============================] - 0s 256us/step - loss: 0.6559 - acc: 0.6434 - f1: 0.0580\n",
            "Epoch 20/50\n",
            "1130/1130 [==============================] - 0s 231us/step - loss: 0.6555 - acc: 0.6425 - f1: 0.0533\n",
            "Epoch 21/50\n",
            "1130/1130 [==============================] - 0s 244us/step - loss: 0.6551 - acc: 0.6425 - f1: 0.0515\n",
            "Epoch 22/50\n",
            "1130/1130 [==============================] - 0s 234us/step - loss: 0.6549 - acc: 0.6425 - f1: 0.0527\n",
            "Epoch 23/50\n",
            "1130/1130 [==============================] - 0s 229us/step - loss: 0.6544 - acc: 0.6434 - f1: 0.0489\n",
            "Epoch 24/50\n",
            "1130/1130 [==============================] - 0s 236us/step - loss: 0.6541 - acc: 0.6434 - f1: 0.0540\n",
            "Epoch 25/50\n",
            "1130/1130 [==============================] - 0s 246us/step - loss: 0.6539 - acc: 0.6434 - f1: 0.0498\n",
            "Epoch 26/50\n",
            "1130/1130 [==============================] - 0s 233us/step - loss: 0.6535 - acc: 0.6434 - f1: 0.0498\n",
            "Epoch 27/50\n",
            "1130/1130 [==============================] - 0s 233us/step - loss: 0.6533 - acc: 0.6434 - f1: 0.0519\n",
            "Epoch 28/50\n",
            "1130/1130 [==============================] - 0s 236us/step - loss: 0.6530 - acc: 0.6434 - f1: 0.0574\n",
            "Epoch 29/50\n",
            "1130/1130 [==============================] - 0s 240us/step - loss: 0.6529 - acc: 0.6434 - f1: 0.0523\n",
            "Epoch 30/50\n",
            "1130/1130 [==============================] - 0s 235us/step - loss: 0.6526 - acc: 0.6434 - f1: 0.0514\n",
            "Epoch 31/50\n",
            "1130/1130 [==============================] - 0s 234us/step - loss: 0.6525 - acc: 0.6434 - f1: 0.0556\n",
            "Epoch 32/50\n",
            "1130/1130 [==============================] - 0s 235us/step - loss: 0.6523 - acc: 0.6434 - f1: 0.0510\n",
            "Epoch 33/50\n",
            "1130/1130 [==============================] - 0s 243us/step - loss: 0.6521 - acc: 0.6434 - f1: 0.0509\n",
            "Epoch 34/50\n",
            "1130/1130 [==============================] - 0s 233us/step - loss: 0.6520 - acc: 0.6434 - f1: 0.0563\n",
            "Epoch 35/50\n",
            "1130/1130 [==============================] - 0s 236us/step - loss: 0.6518 - acc: 0.6442 - f1: 0.0490\n",
            "Epoch 36/50\n",
            "1130/1130 [==============================] - 0s 238us/step - loss: 0.6517 - acc: 0.6442 - f1: 0.0553\n",
            "Epoch 37/50\n",
            "1130/1130 [==============================] - 0s 255us/step - loss: 0.6515 - acc: 0.6442 - f1: 0.0532\n",
            "Epoch 38/50\n",
            "1130/1130 [==============================] - 0s 234us/step - loss: 0.6514 - acc: 0.6442 - f1: 0.0471\n",
            "Epoch 39/50\n",
            "1130/1130 [==============================] - 0s 237us/step - loss: 0.6513 - acc: 0.6434 - f1: 0.0473\n",
            "Epoch 40/50\n",
            "1130/1130 [==============================] - 0s 245us/step - loss: 0.6511 - acc: 0.6442 - f1: 0.0458\n",
            "Epoch 41/50\n",
            "1130/1130 [==============================] - 0s 230us/step - loss: 0.6510 - acc: 0.6442 - f1: 0.0538\n",
            "Epoch 42/50\n",
            "1130/1130 [==============================] - 0s 233us/step - loss: 0.6510 - acc: 0.6442 - f1: 0.0465\n",
            "Epoch 43/50\n",
            "1130/1130 [==============================] - 0s 233us/step - loss: 0.6509 - acc: 0.6522 - f1: 0.0383\n",
            "Epoch 44/50\n",
            "1130/1130 [==============================] - 0s 244us/step - loss: 0.6507 - acc: 0.6513 - f1: 0.0128\n",
            "Epoch 45/50\n",
            "1130/1130 [==============================] - 0s 236us/step - loss: 0.6507 - acc: 0.6504 - f1: 0.0078\n",
            "Epoch 46/50\n",
            "1130/1130 [==============================] - 0s 237us/step - loss: 0.6507 - acc: 0.6504 - f1: 0.0114\n",
            "Epoch 47/50\n",
            "1130/1130 [==============================] - 0s 234us/step - loss: 0.6505 - acc: 0.6504 - f1: 0.0076\n",
            "Epoch 48/50\n",
            "1130/1130 [==============================] - 0s 243us/step - loss: 0.6505 - acc: 0.6504 - f1: 0.0091\n",
            "Epoch 49/50\n",
            "1130/1130 [==============================] - 0s 237us/step - loss: 0.6504 - acc: 0.6504 - f1: 0.0127\n",
            "Epoch 50/50\n",
            "1130/1130 [==============================] - 0s 238us/step - loss: 0.6505 - acc: 0.6504 - f1: 0.0065\n"
          ],
          "name": "stdout"
        }
      ]
    },
    {
      "cell_type": "code",
      "metadata": {
        "colab_type": "code",
        "outputId": "4a247bcb-8b48-466f-982d-d57367cfc4a1",
        "id": "RiP0cFwPEOly",
        "colab": {
          "base_uri": "https://localhost:8080/",
          "height": 349
        }
      },
      "source": [
        "loss, acc, f1 = abModel.evaluate(test_Ab_pred, testAb_labels)\n",
        "p3 = abModel.predict(test_Ab_pred)\n",
        "print(\"Loss: \", loss)\n",
        "print('Accuracy: ', acc)\n",
        "# Show loss curves                                          \n",
        "plt.figure()\n",
        "plt.grid()                                              \n",
        "                                                            \n",
        "plt.title('Testing performance')                          \n",
        "plt.plot(h.epoch, h.history['loss'], label='train loss+error')  \n",
        "plt.plot(h.epoch, h.history['f1'], label='f1')\n",
        "plt.legend()"
      ],
      "execution_count": 0,
      "outputs": [
        {
          "output_type": "stream",
          "text": [
            "120/120 [==============================] - 0s 284us/step\n",
            "Loss:  0.9052364190419515\n",
            "Accuracy:  0.20833333333333334\n"
          ],
          "name": "stdout"
        },
        {
          "output_type": "execute_result",
          "data": {
            "text/plain": [
              "<matplotlib.legend.Legend at 0x7f5a672f5b38>"
            ]
          },
          "metadata": {
            "tags": []
          },
          "execution_count": 82
        },
        {
          "output_type": "display_data",
          "data": {
            "image/png": "[encoded data removed]",
            "text/plain": [
              "<Figure size 432x288 with 1 Axes>"
            ]
          },
          "metadata": {
            "tags": []
          }
        }
      ]
    },
    {
      "cell_type": "code",
      "metadata": {
        "colab_type": "code",
        "id": "EBX_Lnb8EOl8",
        "colab": {}
      },
      "source": [
        "del train_Ab_pred\n",
        "del abModel"
      ],
      "execution_count": 0,
      "outputs": []
    },
    {
      "cell_type": "markdown",
      "metadata": {
        "id": "8Mx-wU-JE00b",
        "colab_type": "text"
      },
      "source": [
        "###Overall Accuracy"
      ]
    },
    {
      "cell_type": "code",
      "metadata": {
        "id": "BUwtNnSfE33M",
        "colab_type": "code",
        "outputId": "3a6d275b-51f0-4192-c253-b72b354da6bf",
        "colab": {
          "base_uri": "https://localhost:8080/",
          "height": 333
        }
      },
      "source": [
        "from sklearn.metrics import accuracy_score\n",
        "\n",
        "r = np.column_stack((testAb_labels, testACL_labels))\n",
        "r = np.column_stack((r, testMen_labels))\n",
        "\n",
        "p3 = np.array(p3)"
      ],
      "execution_count": 0,
      "outputs": [
        {
          "output_type": "stream",
          "text": [
            "[[0.3614338  0.2511899  0.36215752 ... 0.36215752 0.2511899  0.36215752]\n",
            " [0.3614338  0.2722913  0.36215752 ... 0.36215752 0.2722913  0.36215752]\n",
            " [0.3614338  0.15132624 0.36215752 ... 0.36215752 0.15132624 0.36215752]\n",
            " ...\n",
            " [0.2155416  0.2722913  0.36215752 ... 0.36215752 0.2722913  0.36215752]\n",
            " [0.3614338  0.2722913  0.36215752 ... 0.36215752 0.2722913  0.36215752]\n",
            " [0.3614338  0.2722913  0.36215752 ... 0.36215752 0.2722913  0.36215752]]\n"
          ],
          "name": "stdout"
        },
        {
          "output_type": "error",
          "ename": "ValueError",
          "evalue": "ignored",
          "traceback": [
            "\u001b[0;31m---------------------------------------------------------------------------\u001b[0m",
            "\u001b[0;31mValueError\u001b[0m                                Traceback (most recent call last)",
            "\u001b[0;32m<ipython-input-90-8f780a216257>\u001b[0m in \u001b[0;36m<module>\u001b[0;34m()\u001b[0m\n\u001b[1;32m     10\u001b[0m \u001b[0;34m\u001b[0m\u001b[0m\n\u001b[1;32m     11\u001b[0m \u001b[0mtolerance\u001b[0m \u001b[0;34m=\u001b[0m \u001b[0;36m1e-10\u001b[0m\u001b[0;34m\u001b[0m\u001b[0;34m\u001b[0m\u001b[0m\n\u001b[0;32m---> 12\u001b[0;31m \u001b[0maccuracy\u001b[0m \u001b[0;34m=\u001b[0m \u001b[0;34m(\u001b[0m\u001b[0mnp\u001b[0m\u001b[0;34m.\u001b[0m\u001b[0mabs\u001b[0m\u001b[0;34m(\u001b[0m\u001b[0mp3\u001b[0m \u001b[0;34m-\u001b[0m \u001b[0mr\u001b[0m\u001b[0;34m)\u001b[0m \u001b[0;34m<\u001b[0m \u001b[0mtolerance\u001b[0m\u001b[0;34m)\u001b[0m\u001b[0;34m.\u001b[0m\u001b[0mall\u001b[0m\u001b[0;34m(\u001b[0m\u001b[0maxis\u001b[0m\u001b[0;34m=\u001b[0m\u001b[0;34m(\u001b[0m\u001b[0;36m0\u001b[0m\u001b[0;34m,\u001b[0m\u001b[0;36m1\u001b[0m\u001b[0;34m)\u001b[0m\u001b[0;34m)\u001b[0m\u001b[0;34m.\u001b[0m\u001b[0mmean\u001b[0m\u001b[0;34m(\u001b[0m\u001b[0;34m)\u001b[0m\u001b[0;34m\u001b[0m\u001b[0;34m\u001b[0m\u001b[0m\n\u001b[0m\u001b[1;32m     13\u001b[0m \u001b[0mprint\u001b[0m\u001b[0;34m(\u001b[0m\u001b[0maccuracy\u001b[0m\u001b[0;34m)\u001b[0m\u001b[0;34m\u001b[0m\u001b[0;34m\u001b[0m\u001b[0m\n",
            "\u001b[0;31mValueError\u001b[0m: operands could not be broadcast together with shapes (120,15) (120,3) "
          ]
        }
      ]
    },
    {
      "cell_type": "code",
      "metadata": {
        "id": "OytJ8g8tBhhl",
        "colab_type": "code",
        "outputId": "519dcb65-297f-4c15-c340-a652943caf0b",
        "colab": {
          "base_uri": "https://localhost:8080/",
          "height": 214
        }
      },
      "source": [
        "s = p3[:,0]\n",
        "s = np.column_stack((s, np.array(p2)))\n",
        "s = np.column_stack((s, np.array(p1)))"
      ],
      "execution_count": 0,
      "outputs": [
        {
          "output_type": "error",
          "ename": "ValueError",
          "evalue": "ignored",
          "traceback": [
            "\u001b[0;31m---------------------------------------------------------------------------\u001b[0m",
            "\u001b[0;31mValueError\u001b[0m                                Traceback (most recent call last)",
            "\u001b[0;32m<ipython-input-95-7b6b85f6cbd1>\u001b[0m in \u001b[0;36m<module>\u001b[0;34m()\u001b[0m\n\u001b[1;32m      4\u001b[0m \u001b[0;34m\u001b[0m\u001b[0m\n\u001b[1;32m      5\u001b[0m \u001b[0mtolerance\u001b[0m \u001b[0;34m=\u001b[0m \u001b[0;36m1e-10\u001b[0m\u001b[0;34m\u001b[0m\u001b[0;34m\u001b[0m\u001b[0m\n\u001b[0;32m----> 6\u001b[0;31m \u001b[0maccuracy\u001b[0m \u001b[0;34m=\u001b[0m \u001b[0;34m(\u001b[0m\u001b[0mnp\u001b[0m\u001b[0;34m.\u001b[0m\u001b[0mabs\u001b[0m\u001b[0;34m(\u001b[0m\u001b[0mp3\u001b[0m \u001b[0;34m-\u001b[0m \u001b[0mr\u001b[0m\u001b[0;34m)\u001b[0m \u001b[0;34m<\u001b[0m \u001b[0mtolerance\u001b[0m\u001b[0;34m)\u001b[0m\u001b[0;34m.\u001b[0m\u001b[0mall\u001b[0m\u001b[0;34m(\u001b[0m\u001b[0maxis\u001b[0m\u001b[0;34m=\u001b[0m\u001b[0;34m(\u001b[0m\u001b[0;36m0\u001b[0m\u001b[0;34m,\u001b[0m\u001b[0;36m1\u001b[0m\u001b[0;34m)\u001b[0m\u001b[0;34m)\u001b[0m\u001b[0;34m.\u001b[0m\u001b[0mmean\u001b[0m\u001b[0;34m(\u001b[0m\u001b[0;34m)\u001b[0m\u001b[0;34m\u001b[0m\u001b[0;34m\u001b[0m\u001b[0m\n\u001b[0m\u001b[1;32m      7\u001b[0m \u001b[0mprint\u001b[0m\u001b[0;34m(\u001b[0m\u001b[0maccuracy\u001b[0m\u001b[0;34m)\u001b[0m\u001b[0;34m\u001b[0m\u001b[0;34m\u001b[0m\u001b[0m\n",
            "\u001b[0;31mValueError\u001b[0m: operands could not be broadcast together with shapes (120,15) (120,3) "
          ]
        }
      ]
    },
    {
      "cell_type": "code",
      "metadata": {
        "id": "nKBSg21QCBdN",
        "colab_type": "code",
        "outputId": "ef745a20-e9da-4c51-a603-0cab4de599c3",
        "colab": {
          "base_uri": "https://localhost:8080/",
          "height": 2057
        }
      },
      "source": [
        "tolerance = 1e-10\n",
        "accuracy = (np.abs(s - r) < tolerance).all(axis=(0,1)).mean()\n",
        "print(accuracy)"
      ],
      "execution_count": 0,
      "outputs": [
        {
          "output_type": "stream",
          "text": [
            "[[False False False]\n",
            " [False False False]\n",
            " [False False False]\n",
            " [False False False]\n",
            " [False False False]\n",
            " [False False False]\n",
            " [False False False]\n",
            " [False False False]\n",
            " [False False False]\n",
            " [False False False]\n",
            " [False False False]\n",
            " [False False False]\n",
            " [False False False]\n",
            " [False False False]\n",
            " [False False False]\n",
            " [False False False]\n",
            " [False False False]\n",
            " [False False False]\n",
            " [False False False]\n",
            " [False False False]\n",
            " [False False False]\n",
            " [False False False]\n",
            " [False False False]\n",
            " [False False False]\n",
            " [False False False]\n",
            " [False False False]\n",
            " [False False False]\n",
            " [False False False]\n",
            " [False False False]\n",
            " [False False False]\n",
            " [False False False]\n",
            " [False False False]\n",
            " [False False False]\n",
            " [False False False]\n",
            " [False False False]\n",
            " [False False False]\n",
            " [False False False]\n",
            " [False False False]\n",
            " [False False False]\n",
            " [False False False]\n",
            " [False False False]\n",
            " [False False False]\n",
            " [False False False]\n",
            " [False False False]\n",
            " [False False False]\n",
            " [False False False]\n",
            " [False False False]\n",
            " [False False False]\n",
            " [False False False]\n",
            " [False False False]\n",
            " [False False False]\n",
            " [False False False]\n",
            " [False False False]\n",
            " [False False False]\n",
            " [False False False]\n",
            " [False False False]\n",
            " [False False False]\n",
            " [False False False]\n",
            " [False False False]\n",
            " [False False False]\n",
            " [False False False]\n",
            " [False False False]\n",
            " [False False False]\n",
            " [False False False]\n",
            " [False False False]\n",
            " [False False False]\n",
            " [False False False]\n",
            " [False False False]\n",
            " [False False False]\n",
            " [False False False]\n",
            " [False False False]\n",
            " [False False False]\n",
            " [False False False]\n",
            " [False False False]\n",
            " [False False False]\n",
            " [False False False]\n",
            " [False False False]\n",
            " [False False False]\n",
            " [False False False]\n",
            " [False False False]\n",
            " [False False False]\n",
            " [False False False]\n",
            " [False False False]\n",
            " [False False False]\n",
            " [False False False]\n",
            " [False False False]\n",
            " [False False False]\n",
            " [False False False]\n",
            " [False False False]\n",
            " [False False False]\n",
            " [False False False]\n",
            " [False False False]\n",
            " [False False False]\n",
            " [False False False]\n",
            " [False False False]\n",
            " [False False False]\n",
            " [False False False]\n",
            " [False False False]\n",
            " [False False False]\n",
            " [False False False]\n",
            " [False False False]\n",
            " [False False False]\n",
            " [False False False]\n",
            " [False False False]\n",
            " [False False False]\n",
            " [False False False]\n",
            " [False False False]\n",
            " [False False False]\n",
            " [False False False]\n",
            " [False False False]\n",
            " [False False False]\n",
            " [False False False]\n",
            " [False False False]\n",
            " [False False False]\n",
            " [False False False]\n",
            " [False False False]\n",
            " [False False False]\n",
            " [False False False]\n",
            " [False False False]\n",
            " [False False False]]\n"
          ],
          "name": "stdout"
        }
      ]
    },
    {
      "cell_type": "markdown",
      "metadata": {
        "id": "jVuoDrevt-x3",
        "colab_type": "text"
      },
      "source": [
        "#Plotting loss of both training and validation sets per epoch."
      ]
    },
    {
      "cell_type": "code",
      "metadata": {
        "id": "iwwNXsT_r0m1",
        "colab_type": "code",
        "outputId": "0f692ca0-2881-46e2-b7ad-146bd7619420",
        "colab": {
          "base_uri": "https://localhost:8080/",
          "height": 295
        }
      },
      "source": [
        "# summarize history for loss\n",
        "plt.plot(history.history['loss'])\n",
        "plt.plot(history.history['val_loss'])\n",
        "plt.title('model loss')\n",
        "plt.ylabel('loss')\n",
        "plt.xlabel('epoch')\n",
        "plt.legend(['train', 'test'], loc='upper left')\n",
        "plt.grid()\n",
        "plt.show()"
      ],
      "execution_count": 0,
      "outputs": [
        {
          "output_type": "display_data",
          "data": {
            "image/png": "[encoded data removed]",
            "text/plain": [
              "<Figure size 432x288 with 1 Axes>"
            ]
          },
          "metadata": {
            "tags": []
          }
        }
      ]
    },
    {
      "cell_type": "markdown",
      "metadata": {
        "id": "D3tOvpJzuHWW",
        "colab_type": "text"
      },
      "source": [
        "#Plotting Fscore of both training and validation sets per epoch.\n",
        "lesa msh 3arfa a3melha"
      ]
    },
    {
      "cell_type": "code",
      "metadata": {
        "id": "3SqaDN9auLqe",
        "colab_type": "code",
        "colab": {}
      },
      "source": [
        "\n",
        "y_pred = model.predict(train_axial ,trainMen_labels,verbose=1)   \n",
        "f_score=f1_score(trainMen_labels, y_pred, average='binary')\n",
        "plt.plot(history.history['val_loss'])"
      ],
      "execution_count": 0,
      "outputs": []
    }
  ]
}